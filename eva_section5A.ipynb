{
 "cells": [
  {
   "cell_type": "markdown",
   "source": [
    "## Section IV.A Time Performance Evaluation"
   ],
   "metadata": {
    "collapsed": false
   },
   "id": "cb0805881f692f56"
  },
  {
   "cell_type": "code",
   "execution_count": 19,
   "outputs": [],
   "source": [
    "import src.gen_synthetic as gen_data\n",
    "from scipy.fft import fft, fftfreq\n",
    "from scipy import stats\n",
    "import src.onlineSLE as utility\n",
    "import time\n",
    "import numpy as np\n",
    "import periodicity_detection as period"
   ],
   "metadata": {
    "collapsed": false,
    "ExecuteTime": {
     "end_time": "2024-05-17T07:13:48.423516Z",
     "start_time": "2024-05-17T07:13:48.380649Z"
    }
   },
   "id": "initial_id"
  },
  {
   "cell_type": "code",
   "execution_count": 20,
   "outputs": [],
   "source": [
    "sliding_window_size = 300\n",
    "ts = gen_data.generate_syn1(residual_rate=0.05, is_export=False)['ts']\n",
    "ts = stats.zscore(ts)\n"
   ],
   "metadata": {
    "collapsed": false,
    "ExecuteTime": {
     "end_time": "2024-05-17T07:13:48.435849Z",
     "start_time": "2024-05-17T07:13:48.384560Z"
    }
   },
   "id": "345693699ffa3b85"
  },
  {
   "cell_type": "markdown",
   "source": [
    "## Periodogram using scipy FFT"
   ],
   "metadata": {
    "collapsed": false
   },
   "id": "f66292608bf2660"
  },
  {
   "cell_type": "code",
   "execution_count": 21,
   "outputs": [
    {
     "name": "stdout",
     "output_type": "stream",
     "text": [
      "Average execution time of Pden fft: 0.010798964896574875 mil seconds\n"
     ]
    }
   ],
   "source": [
    "# num_iterations = len(ts) - window_size + 1\n",
    "total_time = 0\n",
    "results = []\n",
    "W = ts[:sliding_window_size]\n",
    "mathcal_F = fft(W)\n",
    "xfreq, p_den = utility.peridogram(sliding_window_size, mathcal_F)\n",
    "results.append(mathcal_F)\n",
    "for idx, x_t in enumerate(ts[sliding_window_size:]):\n",
    "    x_oldest = W[0]\n",
    "    W = W[1:]\n",
    "    W = np.append(W, x_t)\n",
    "    ## start time\n",
    "    start_time = time.time()\n",
    "    mathcal_F = fft(W)\n",
    "    xfreq, p_den = utility.peridogram(sliding_window_size, mathcal_F)\n",
    "    end_time = time.time()\n",
    "     ## end time\n",
    "    total_time += (end_time - start_time)\n",
    "    results.append(mathcal_F)\n",
    "\n",
    "avg_time_ms = (total_time / idx) * 1000\n",
    "print(f\"Average execution time of Pden fft: {avg_time_ms} mil seconds\")"
   ],
   "metadata": {
    "collapsed": false,
    "ExecuteTime": {
     "end_time": "2024-05-17T07:13:48.469075Z",
     "start_time": "2024-05-17T07:13:48.397200Z"
    }
   },
   "id": "ff423d6e9189fc50"
  },
  {
   "cell_type": "markdown",
   "source": [
    "## Periodogram using scipy SDFT"
   ],
   "metadata": {
    "collapsed": false
   },
   "id": "b934c43bd5875993"
  },
  {
   "cell_type": "code",
   "execution_count": 22,
   "outputs": [
    {
     "name": "stdout",
     "output_type": "stream",
     "text": [
      "Average execution time of sdft (buffer): 0.0075868597612694395 mil seconds\n"
     ]
    }
   ],
   "source": [
    "total_time = 0 \n",
    "# num_iterations = len(ts) - window_size + 1\n",
    "result = []\n",
    "W = ts[:sliding_window_size]\n",
    "mathcal_F = fft(W)\n",
    "xfreq, p_den = utility.peridogram(sliding_window_size, mathcal_F)\n",
    "\n",
    "result.append(mathcal_F)\n",
    "N = len(mathcal_F)\n",
    "k = np.arange(N)\n",
    "twiddle = np.exp(2j * np.pi * k / N)\n",
    "for idx, x_t in enumerate(ts[sliding_window_size:]):\n",
    "    x_oldest = W[0]\n",
    "    W = W[1:]\n",
    "    W = np.append(W, x_t)\n",
    "    ## start time\n",
    "    start_time = time.time()\n",
    "    start_fft = utility.update_sDFT(mathcal_F, x_oldest, x_t, twiddle)\n",
    "    xfreq, p_den = utility.peridogram(sliding_window_size, mathcal_F)\n",
    "    end_time = time.time()\n",
    "    ## end time\n",
    "    total_time += (end_time - start_time)\n",
    "    result.append(start_fft)\n",
    "\n",
    "avg_time_ms = (total_time / idx) * 1000\n",
    "print(f\"Average execution time of sdft (buffer): {avg_time_ms} mil seconds\")"
   ],
   "metadata": {
    "collapsed": false,
    "ExecuteTime": {
     "end_time": "2024-05-17T07:13:48.540601Z",
     "start_time": "2024-05-17T07:13:48.486612Z"
    }
   },
   "id": "268d6421c8ffa281"
  },
  {
   "cell_type": "markdown",
   "source": [
    "## Autoperiod"
   ],
   "metadata": {
    "collapsed": false
   },
   "id": "27f801c5699776a3"
  },
  {
   "cell_type": "code",
   "execution_count": 23,
   "outputs": [
    {
     "name": "stdout",
     "output_type": "stream",
     "text": [
      "Average execution time of period.autoperiod(buffer): 5.738927296229771 msec\n"
     ]
    }
   ],
   "source": [
    "total_time = 0  # To accumulate the total execution time of period.find_length(buffer)\n",
    "#\n",
    "for idx in range(len(ts) - sliding_window_size + 1):\n",
    "    W = ts[idx:sliding_window_size + idx]\n",
    "    start_time = time.time()\n",
    "    SLE_result = period.autoperiod(W)\n",
    "    end_time = time.time()\n",
    "    total_time += (end_time - start_time)\n",
    "\n",
    "avg_time_ms = (total_time / idx) * 1000\n",
    "print(f\"Average execution time of period.autoperiod(buffer): {avg_time_ms} msec\")"
   ],
   "metadata": {
    "collapsed": false,
    "ExecuteTime": {
     "end_time": "2024-05-17T07:14:16.665514Z",
     "start_time": "2024-05-17T07:13:48.538763Z"
    }
   },
   "id": "58ab038ac4c82152"
  },
  {
   "cell_type": "markdown",
   "source": [
    "## Find_length"
   ],
   "metadata": {
    "collapsed": false
   },
   "id": "c97fded1a68b432c"
  },
  {
   "cell_type": "code",
   "execution_count": 24,
   "outputs": [
    {
     "name": "stdout",
     "output_type": "stream",
     "text": [
      "Average execution time of period.autoperiod(buffer): 0.039895991889797915 msec\n"
     ]
    }
   ],
   "source": [
    "total_time = 0  # To accumulate the total execution time of period.find_length(buffer)\n",
    "#\n",
    "for idx in range(len(ts) - sliding_window_size + 1):\n",
    "    W = ts[idx:sliding_window_size + idx]\n",
    "    start_time = time.time()\n",
    "    SLE_result = period.find_length(W)\n",
    "    end_time = time.time()\n",
    "    total_time += (end_time - start_time)\n",
    "\n",
    "avg_time_ms = (total_time / idx) * 1000\n",
    "print(f\"Average execution time of period.find_length(buffer): {avg_time_ms} msec\")"
   ],
   "metadata": {
    "collapsed": false,
    "ExecuteTime": {
     "start_time": "2024-05-17T07:14:16.666024Z"
    }
   },
   "id": "13cbe95f964a9bd9"
  },
  {
   "cell_type": "markdown",
   "source": [
    "## OnlineSLE"
   ],
   "metadata": {
    "collapsed": false
   },
   "id": "6bf7cc5dd12d9ce5"
  },
  {
   "cell_type": "code",
   "execution_count": 25,
   "outputs": [
    {
     "name": "stdout",
     "output_type": "stream",
     "text": [
      "Average execution time of OnlineSLE: 0.00930942061191239 mil seconds\n"
     ]
    }
   ],
   "source": [
    "total_time = 0\n",
    "W = ts[:sliding_window_size]\n",
    "mathcal_F = fft(W)\n",
    "xfreq, periodogram_den = utility.peridogram(sliding_window_size, mathcal_F)\n",
    "peak_index = utility.get_period_hints(periodogram_den)\n",
    "for idx, x_t in enumerate(ts[sliding_window_size:]):\n",
    "    x_oldest = W[0]\n",
    "    W = W[1:]\n",
    "    W = np.append(W, x_t)\n",
    "    ## start time\n",
    "    start_time = time.time()\n",
    "    start_fft = utility.update_sDFT(mathcal_F, x_oldest, x_t, twiddle)\n",
    "    xfreq, p_den = utility.peridogram(sliding_window_size, mathcal_F)\n",
    "    peak_index = utility.get_period_hints(periodogram_den)\n",
    "    end_time = time.time()\n",
    "    ## end time\n",
    "    total_time += (end_time - start_time)\n",
    "    result.append(start_fft)\n",
    "\n",
    "avg_time_ms = (total_time / idx) * 1000\n",
    "print(f\"Average execution time of OnlineSLE: {avg_time_ms} mil seconds\")"
   ],
   "metadata": {
    "collapsed": false,
    "ExecuteTime": {
     "start_time": "2024-05-17T07:14:16.866541Z"
    }
   },
   "id": "6cb7bb14948c1f68"
  },
  {
   "cell_type": "code",
   "execution_count": 25,
   "outputs": [],
   "source": [],
   "metadata": {
    "collapsed": false,
    "ExecuteTime": {
     "end_time": "2024-05-17T07:14:16.929449Z",
     "start_time": "2024-05-17T07:14:16.926002Z"
    }
   },
   "id": "8eef3be3d2cac666"
  }
 ],
 "metadata": {
  "kernelspec": {
   "display_name": "Python 3",
   "language": "python",
   "name": "python3"
  },
  "language_info": {
   "codemirror_mode": {
    "name": "ipython",
    "version": 2
   },
   "file_extension": ".py",
   "mimetype": "text/x-python",
   "name": "python",
   "nbconvert_exporter": "python",
   "pygments_lexer": "ipython2",
   "version": "2.7.6"
  }
 },
 "nbformat": 4,
 "nbformat_minor": 5
}
