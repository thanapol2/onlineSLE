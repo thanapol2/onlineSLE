{
 "cells": [
  {
   "cell_type": "code",
   "execution_count": 17,
   "outputs": [],
   "source": [
    "import src.gen_synthetic as gen_data\n",
    "import matplotlib.pyplot as plt\n",
    "import numpy as np\n",
    "from scipy.fft import fft, fftfreq\n",
    "from scipy.signal import detrend\n",
    "from scipy import stats\n",
    "import src.onlineSLE as utility\n",
    "import periodicity_detection as period\n",
    "import os"
   ],
   "metadata": {
    "collapsed": false,
    "ExecuteTime": {
     "end_time": "2024-05-20T06:54:32.753630Z",
     "start_time": "2024-05-20T06:54:32.559108Z"
    }
   },
   "id": "48ecaff1da2d7a28"
  },
  {
   "cell_type": "code",
   "execution_count": 18,
   "outputs": [],
   "source": [
    "full_path = os.path.expanduser(\"~/source_code/onlineSLE/dataset/\")      \n",
    "\n",
    "ecg_ts = np.loadtxt(os.path.join(full_path,'TiltECG_200_25000.txt'))\n",
    "ecg_ts = detrend(ecg_ts)\n",
    "ecg_ts = stats.zscore(ecg_ts)\n",
    "\n",
    "sliding_window_size = 1000\n",
    "answer = np.full(len(ecg_ts), 200) "
   ],
   "metadata": {
    "collapsed": false,
    "ExecuteTime": {
     "end_time": "2024-05-20T06:54:32.760913Z",
     "start_time": "2024-05-20T06:54:32.565434Z"
    }
   },
   "id": "initial_id"
  },
  {
   "cell_type": "markdown",
   "source": [
    "## Find length"
   ],
   "metadata": {
    "collapsed": false
   },
   "id": "19fffdbf38fc8f0b"
  },
  {
   "cell_type": "code",
   "execution_count": 19,
   "outputs": [
    {
     "name": "stdout",
     "output_type": "stream",
     "text": [
      "[{'dataset_name': 'ecg', 'algorithms': 'find_length', 'error_bound': 0, 'accuracy_ratio': 0.053}, {'dataset_name': 'ecg', 'algorithms': 'find_length', 'error_bound': 20, 'accuracy_ratio': 0.928}]\n"
     ]
    }
   ],
   "source": [
    "find_length_result = []\n",
    "for idx in range(len(ecg_ts) - sliding_window_size + 1):\n",
    "    W = ecg_ts[idx:sliding_window_size + idx]\n",
    "    SLE_result = period.find_length(W)\n",
    "    \n",
    "    find_length_result.append({'idx_win': sliding_window_size + idx,\n",
    "                                'answer': answer[sliding_window_size + idx - 1],\n",
    "                                'result': SLE_result})\n",
    "\n",
    "print(utility.result_aggregation('ecg', 'find_length',find_length_result))"
   ],
   "metadata": {
    "collapsed": false,
    "ExecuteTime": {
     "end_time": "2024-05-20T06:54:35.650622Z",
     "start_time": "2024-05-20T06:54:32.734826Z"
    }
   },
   "id": "472f633534e74be8"
  },
  {
   "cell_type": "code",
   "execution_count": 20,
   "outputs": [
    {
     "name": "stdout",
     "output_type": "stream",
     "text": [
      "[{'dataset_name': 'ecg', 'algorithms': 'autoperiod', 'error_bound': 0, 'accuracy_ratio': 0.058}, {'dataset_name': 'ecg', 'algorithms': 'autoperiod', 'error_bound': 20, 'accuracy_ratio': 0.963}]\n"
     ]
    }
   ],
   "source": [
    "autoperiod_result = []\n",
    "for idx in range(len(ecg_ts) - sliding_window_size + 1):\n",
    "    W = ecg_ts[idx:sliding_window_size + idx]\n",
    "    SLE_result = period.autoperiod(W)\n",
    "    autoperiod_result.append({'idx_win': sliding_window_size + idx,\n",
    "                                'answer': answer[sliding_window_size + idx - 1],\n",
    "                                'result': SLE_result})\n",
    "\n",
    "print(utility.result_aggregation('ecg', 'autoperiod',autoperiod_result))"
   ],
   "metadata": {
    "collapsed": false,
    "ExecuteTime": {
     "end_time": "2024-05-20T06:59:12.415336Z",
     "start_time": "2024-05-20T06:54:35.652996Z"
    }
   },
   "id": "f8201fceaf7a8573"
  },
  {
   "cell_type": "code",
   "execution_count": 21,
   "outputs": [
    {
     "name": "stdout",
     "output_type": "stream",
     "text": [
      "[{'dataset_name': 'ecg', 'algorithms': 'SAZED', 'error_bound': 0, 'accuracy_ratio': 0.0}, {'dataset_name': 'ecg', 'algorithms': 'SAZED', 'error_bound': 20, 'accuracy_ratio': 0.958}]\n"
     ]
    }
   ],
   "source": [
    "import rpy2.robjects as robjects\n",
    "from rpy2.robjects.packages import importr\n",
    "sazedR = importr('sazedR')          # sazedR in CRAN\n",
    "\n",
    "\n",
    "sazedR_result = []\n",
    "for idx in range(len(ecg_ts) - sliding_window_size + 1):\n",
    "    W = ecg_ts[idx:sliding_window_size + idx]\n",
    "    W = robjects.FloatVector(W)\n",
    "    SLE_result = sazedR.sazed(W)\n",
    "    SLE_result = SLE_result[0]\n",
    "    sazedR_result.append({'idx_win': sliding_window_size + idx,\n",
    "                              'answer': answer[sliding_window_size + idx - 1],\n",
    "                              'result': SLE_result})\n",
    "\n",
    "print(utility.result_aggregation('ecg', 'SAZED',sazedR_result))"
   ],
   "metadata": {
    "collapsed": false,
    "ExecuteTime": {
     "end_time": "2024-05-20T07:01:58.088999Z",
     "start_time": "2024-05-20T06:59:12.417995Z"
    }
   },
   "id": "58e43f940cb0afe"
  },
  {
   "cell_type": "markdown",
   "source": [
    "## OnlineSLE"
   ],
   "metadata": {
    "collapsed": false
   },
   "id": "6d0ec2c7d9cc0d08"
  },
  {
   "cell_type": "code",
   "execution_count": 22,
   "outputs": [
    {
     "name": "stdout",
     "output_type": "stream",
     "text": [
      "[{'dataset_name': 'ecg', 'algorithms': 'onlineSLE', 'error_bound': 0, 'accuracy_ratio': 0.862}, {'dataset_name': 'ecg', 'algorithms': 'onlineSLE', 'error_bound': 20, 'accuracy_ratio': 0.863}]\n"
     ]
    }
   ],
   "source": [
    "## offline mode\n",
    "onlineSLE_result = []\n",
    "W = ecg_ts[:sliding_window_size]\n",
    "mathcal_F = fft(W)\n",
    "N = len(mathcal_F)\n",
    "k = np.arange(N)\n",
    "twiddle = np.exp(2j * np.pi * k / N)   # twiddle for SDFT\n",
    "\n",
    "xfreq, periodogram_den = utility.peridogram(sliding_window_size, mathcal_F)\n",
    "peak_index = utility.get_period_hints(periodogram_den)\n",
    "if peak_index > 1:\n",
    "    frequency = xfreq[peak_index]\n",
    "    SLE_result = round(1 / frequency)\n",
    "else:\n",
    "    SLE_result = 1\n",
    "onlineSLE_result.append({'idx_win': sliding_window_size,\n",
    "                'answer': answer[sliding_window_size - 1],\n",
    "                'result': SLE_result})\n",
    "\n",
    "## online mode\n",
    "for idx, x_t in enumerate(ecg_ts[sliding_window_size:]):\n",
    "    x_oldest = W[0]\n",
    "    W = W[1:]\n",
    "    W = np.append(W, x_t)\n",
    "    mathcal_F = utility.update_sDFT(mathcal_F, x_oldest, x_t,twiddle)\n",
    "    xfreq, periodogram_den = utility.peridogram(sliding_window_size, mathcal_F)\n",
    "    peak_index = utility.get_period_hints(periodogram_den)\n",
    "    if peak_index > 1:\n",
    "        frequency = xfreq[peak_index]\n",
    "        SLE_result = round(1 / frequency)\n",
    "    else:\n",
    "        SLE_result = 1\n",
    "    \n",
    "    onlineSLE_result.append({'idx_win': 1 + sliding_window_size + idx,\n",
    "                                'answer': answer[sliding_window_size + idx],\n",
    "                                'result': SLE_result})\n",
    "    \n",
    "print(utility.result_aggregation('ecg', 'onlineSLE', onlineSLE_result))"
   ],
   "metadata": {
    "collapsed": false,
    "ExecuteTime": {
     "end_time": "2024-05-20T07:01:58.752699Z",
     "start_time": "2024-05-20T07:01:58.071522Z"
    }
   },
   "id": "31dcf3e7c0f34b91"
  },
  {
   "cell_type": "code",
   "execution_count": 22,
   "outputs": [],
   "source": [],
   "metadata": {
    "collapsed": false,
    "ExecuteTime": {
     "end_time": "2024-05-20T07:01:58.752862Z",
     "start_time": "2024-05-20T07:01:58.749279Z"
    }
   },
   "id": "fc39d76d52681a4b"
  }
 ],
 "metadata": {
  "kernelspec": {
   "display_name": "Python 3",
   "language": "python",
   "name": "python3"
  },
  "language_info": {
   "codemirror_mode": {
    "name": "ipython",
    "version": 2
   },
   "file_extension": ".py",
   "mimetype": "text/x-python",
   "name": "python",
   "nbconvert_exporter": "python",
   "pygments_lexer": "ipython2",
   "version": "2.7.6"
  }
 },
 "nbformat": 4,
 "nbformat_minor": 5
}
