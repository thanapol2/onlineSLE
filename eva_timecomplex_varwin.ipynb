{
 "cells": [
  {
   "cell_type": "markdown",
   "source": [
    "## This is a new evaluation for presentation at SCIA-2024 (Takamatsu)"
   ],
   "metadata": {
    "collapsed": false
   },
   "id": "e1a3dcf2a4f07bff"
  },
  {
   "cell_type": "code",
   "execution_count": 14,
   "outputs": [],
   "source": [
    "import numpy as np\n",
    "import scipy as sp\n",
    "from scipy import stats\n",
    "import periodicity_detection as period\n",
    "import time\n",
    "from src.gen_synthetic import sinewave\n",
    "import src.onlineSLE as utility\n",
    "\n",
    "import matplotlib.pyplot as plt"
   ],
   "metadata": {
    "collapsed": false,
    "ExecuteTime": {
     "end_time": "2024-06-20T03:09:58.470602Z",
     "start_time": "2024-06-20T03:09:58.392837Z"
    }
   },
   "id": "initial_id"
  },
  {
   "cell_type": "markdown",
   "source": [
    "## Full length data"
   ],
   "metadata": {
    "collapsed": false
   },
   "id": "4137351b313dd1e5"
  },
  {
   "cell_type": "code",
   "execution_count": 15,
   "outputs": [
    {
     "name": "stdout",
     "output_type": "stream",
     "text": [
      "range(300, 10000, 200)\n"
     ]
    }
   ],
   "source": [
    "np.random.seed(0)\n",
    "seasonal = sinewave(25000,100,1)\n",
    "residual = 0.2 * np.random.randn(len(seasonal))\n",
    "ts = stats.zscore(seasonal+ residual)\n",
    "\n",
    "window_sizes = range(300,10000,200)\n",
    "print(window_sizes)\n",
    "com_time = []\n",
    "num_sliding_window = 10000"
   ],
   "metadata": {
    "collapsed": false,
    "ExecuteTime": {
     "end_time": "2024-06-20T03:09:58.475473Z",
     "start_time": "2024-06-20T03:09:58.394084Z"
    }
   },
   "id": "31082844e7e8457f"
  },
  {
   "cell_type": "markdown",
   "source": [
    "## Periodogram"
   ],
   "metadata": {
    "collapsed": false
   },
   "id": "3d3a049655b6ac4f"
  },
  {
   "cell_type": "code",
   "execution_count": 16,
   "outputs": [
    {
     "name": "stdout",
     "output_type": "stream",
     "text": [
      "{'algorithm': 'numpy.FFT', 'window_size': 300, 'avg_time': 0.008179688453674318}\n",
      "{'algorithm': 'numpy.FFT', 'window_size': 500, 'avg_time': 0.012862277030944825}\n",
      "{'algorithm': 'numpy.FFT', 'window_size': 700, 'avg_time': 0.012623786926269531}\n",
      "{'algorithm': 'numpy.FFT', 'window_size': 900, 'avg_time': 0.015488910675048827}\n",
      "{'algorithm': 'numpy.FFT', 'window_size': 1100, 'avg_time': 0.01609351634979248}\n",
      "{'algorithm': 'numpy.FFT', 'window_size': 1300, 'avg_time': 0.01996738910675049}\n",
      "{'algorithm': 'numpy.FFT', 'window_size': 1500, 'avg_time': 0.037980151176452634}\n",
      "{'algorithm': 'numpy.FFT', 'window_size': 1700, 'avg_time': 0.041293311119079586}\n",
      "{'algorithm': 'numpy.FFT', 'window_size': 1900, 'avg_time': 0.03285949230194092}\n",
      "{'algorithm': 'numpy.FFT', 'window_size': 2100, 'avg_time': 0.03892881870269776}\n",
      "{'algorithm': 'numpy.FFT', 'window_size': 2300, 'avg_time': 0.04331893920898438}\n",
      "{'algorithm': 'numpy.FFT', 'window_size': 2500, 'avg_time': 0.04784750938415527}\n",
      "{'algorithm': 'numpy.FFT', 'window_size': 2700, 'avg_time': 0.035277581214904784}\n",
      "{'algorithm': 'numpy.FFT', 'window_size': 2900, 'avg_time': 0.05621743202209473}\n",
      "{'algorithm': 'numpy.FFT', 'window_size': 3100, 'avg_time': 0.05454008579254151}\n",
      "{'algorithm': 'numpy.FFT', 'window_size': 3300, 'avg_time': 0.06232476234436035}\n",
      "{'algorithm': 'numpy.FFT', 'window_size': 3500, 'avg_time': 0.05174202919006348}\n",
      "{'algorithm': 'numpy.FFT', 'window_size': 3700, 'avg_time': 0.06662211418151856}\n",
      "{'algorithm': 'numpy.FFT', 'window_size': 3900, 'avg_time': 0.06468136310577392}\n",
      "{'algorithm': 'numpy.FFT', 'window_size': 4100, 'avg_time': 0.07947936058044433}\n",
      "{'algorithm': 'numpy.FFT', 'window_size': 4300, 'avg_time': 0.0890456199645996}\n",
      "{'algorithm': 'numpy.FFT', 'window_size': 4500, 'avg_time': 0.07030220031738282}\n",
      "{'algorithm': 'numpy.FFT', 'window_size': 4700, 'avg_time': 0.09963347911834716}\n",
      "{'algorithm': 'numpy.FFT', 'window_size': 4900, 'avg_time': 0.08097243309020996}\n",
      "{'algorithm': 'numpy.FFT', 'window_size': 5100, 'avg_time': 0.08903164863586426}\n",
      "{'algorithm': 'numpy.FFT', 'window_size': 5300, 'avg_time': 0.10778512954711914}\n",
      "{'algorithm': 'numpy.FFT', 'window_size': 5500, 'avg_time': 0.09749355316162109}\n",
      "{'algorithm': 'numpy.FFT', 'window_size': 5700, 'avg_time': 0.09559857845306396}\n",
      "{'algorithm': 'numpy.FFT', 'window_size': 5900, 'avg_time': 0.1352125883102417}\n",
      "{'algorithm': 'numpy.FFT', 'window_size': 6100, 'avg_time': 0.12631514072418212}\n",
      "{'algorithm': 'numpy.FFT', 'window_size': 6300, 'avg_time': 0.09574720859527587}\n",
      "{'algorithm': 'numpy.FFT', 'window_size': 6500, 'avg_time': 0.10282425880432129}\n",
      "{'algorithm': 'numpy.FFT', 'window_size': 6700, 'avg_time': 0.14667258262634278}\n",
      "{'algorithm': 'numpy.FFT', 'window_size': 6900, 'avg_time': 0.12156832218170166}\n",
      "{'algorithm': 'numpy.FFT', 'window_size': 7100, 'avg_time': 0.17187340259552003}\n",
      "{'algorithm': 'numpy.FFT', 'window_size': 7300, 'avg_time': 0.17154741287231445}\n",
      "{'algorithm': 'numpy.FFT', 'window_size': 7500, 'avg_time': 0.1120490550994873}\n",
      "{'algorithm': 'numpy.FFT', 'window_size': 7700, 'avg_time': 0.12036535739898682}\n",
      "{'algorithm': 'numpy.FFT', 'window_size': 7900, 'avg_time': 0.19224953651428223}\n",
      "{'algorithm': 'numpy.FFT', 'window_size': 8100, 'avg_time': 0.12048346996307373}\n",
      "{'algorithm': 'numpy.FFT', 'window_size': 8300, 'avg_time': 0.24739608764648435}\n",
      "{'algorithm': 'numpy.FFT', 'window_size': 8500, 'avg_time': 0.19754071235656737}\n",
      "{'algorithm': 'numpy.FFT', 'window_size': 8700, 'avg_time': 0.20053768157958984}\n",
      "{'algorithm': 'numpy.FFT', 'window_size': 8900, 'avg_time': 0.2587139844894409}\n",
      "{'algorithm': 'numpy.FFT', 'window_size': 9100, 'avg_time': 0.18421363830566406}\n",
      "{'algorithm': 'numpy.FFT', 'window_size': 9300, 'avg_time': 0.20263044834136962}\n",
      "{'algorithm': 'numpy.FFT', 'window_size': 9500, 'avg_time': 0.2123331546783447}\n",
      "{'algorithm': 'numpy.FFT', 'window_size': 9700, 'avg_time': 0.3119290590286255}\n",
      "{'algorithm': 'numpy.FFT', 'window_size': 9900, 'avg_time': 0.1732111692428589}\n"
     ]
    }
   ],
   "source": [
    "## NumpyFFT\n",
    "\n",
    "for window_size in window_sizes:\n",
    "    total_time = 0\n",
    "    W = ts[:window_size]\n",
    "    start_fft = np.fft.fft(W)\n",
    "    xfreq, p_den = utility.peridogram(window_size, start_fft)\n",
    "    for idx in range(0,num_sliding_window):\n",
    "        newest_x = ts[window_size+idx]\n",
    "        oldest_x = W[0]\n",
    "        W = W[1:]\n",
    "        W = np.append(W, newest_x)\n",
    "        start_time = time.time()            # start time\n",
    "        start_fft = np.fft.fft(W)\n",
    "        xfreq, p_den = utility.peridogram(window_size, start_fft)\n",
    "        end_time = time.time()              # end time\n",
    "        total_time += (end_time - start_time)\n",
    "    avg_time_ms = (total_time / num_sliding_window) * 1000\n",
    "    print({'algorithm': 'numpy.FFT',\n",
    "                    'window_size': window_size,\n",
    "                    'avg_time': avg_time_ms})\n",
    "    com_time.append({'algorithm': 'numpy.FFT',\n",
    "                    'window_size': window_size,\n",
    "                    'avg_time': avg_time_ms})"
   ],
   "metadata": {
    "collapsed": false,
    "ExecuteTime": {
     "end_time": "2024-06-20T03:10:51.723356Z",
     "start_time": "2024-06-20T03:09:58.409341Z"
    }
   },
   "id": "8c5abe2901cabd88"
  },
  {
   "cell_type": "code",
   "execution_count": 17,
   "outputs": [
    {
     "name": "stdout",
     "output_type": "stream",
     "text": [
      "{'algorithm': 'scipy.FFT', 'window_size': 300, 'avg_time': 0.008621859550476075}\n",
      "{'algorithm': 'scipy.FFT', 'window_size': 500, 'avg_time': 0.010144400596618652}\n",
      "{'algorithm': 'scipy.FFT', 'window_size': 700, 'avg_time': 0.012224650382995604}\n",
      "{'algorithm': 'scipy.FFT', 'window_size': 900, 'avg_time': 0.01369943618774414}\n",
      "{'algorithm': 'scipy.FFT', 'window_size': 1100, 'avg_time': 0.015827441215515135}\n",
      "{'algorithm': 'scipy.FFT', 'window_size': 1300, 'avg_time': 0.017577910423278807}\n",
      "{'algorithm': 'scipy.FFT', 'window_size': 1500, 'avg_time': 0.019122767448425292}\n",
      "{'algorithm': 'scipy.FFT', 'window_size': 1700, 'avg_time': 0.02155463695526123}\n",
      "{'algorithm': 'scipy.FFT', 'window_size': 1900, 'avg_time': 0.02377164363861084}\n",
      "{'algorithm': 'scipy.FFT', 'window_size': 2100, 'avg_time': 0.03648927211761475}\n",
      "{'algorithm': 'scipy.FFT', 'window_size': 2300, 'avg_time': 0.032094788551330564}\n",
      "{'algorithm': 'scipy.FFT', 'window_size': 2500, 'avg_time': 0.0344876766204834}\n",
      "{'algorithm': 'scipy.FFT', 'window_size': 2700, 'avg_time': 0.03747744560241699}\n",
      "{'algorithm': 'scipy.FFT', 'window_size': 2900, 'avg_time': 0.037988114356994625}\n",
      "{'algorithm': 'scipy.FFT', 'window_size': 3100, 'avg_time': 0.04985523223876953}\n",
      "{'algorithm': 'scipy.FFT', 'window_size': 3300, 'avg_time': 0.04593038558959961}\n",
      "{'algorithm': 'scipy.FFT', 'window_size': 3500, 'avg_time': 0.050719714164733885}\n",
      "{'algorithm': 'scipy.FFT', 'window_size': 3700, 'avg_time': 0.05292327404022217}\n",
      "{'algorithm': 'scipy.FFT', 'window_size': 3900, 'avg_time': 0.03942201137542725}\n",
      "{'algorithm': 'scipy.FFT', 'window_size': 4100, 'avg_time': 0.04944162368774414}\n",
      "{'algorithm': 'scipy.FFT', 'window_size': 4300, 'avg_time': 0.05351669788360596}\n",
      "{'algorithm': 'scipy.FFT', 'window_size': 4500, 'avg_time': 0.055902862548828126}\n",
      "{'algorithm': 'scipy.FFT', 'window_size': 4700, 'avg_time': 0.06000373363494873}\n",
      "{'algorithm': 'scipy.FFT', 'window_size': 4900, 'avg_time': 0.06207036972045898}\n",
      "{'algorithm': 'scipy.FFT', 'window_size': 5100, 'avg_time': 0.06996498107910157}\n",
      "{'algorithm': 'scipy.FFT', 'window_size': 5300, 'avg_time': 0.07220945358276368}\n",
      "{'algorithm': 'scipy.FFT', 'window_size': 5500, 'avg_time': 0.07691569328308105}\n",
      "{'algorithm': 'scipy.FFT', 'window_size': 5700, 'avg_time': 0.06743230819702148}\n",
      "{'algorithm': 'scipy.FFT', 'window_size': 5900, 'avg_time': 0.08431997299194335}\n",
      "{'algorithm': 'scipy.FFT', 'window_size': 6100, 'avg_time': 0.07843971252441406}\n",
      "{'algorithm': 'scipy.FFT', 'window_size': 6300, 'avg_time': 0.10657563209533692}\n",
      "{'algorithm': 'scipy.FFT', 'window_size': 6500, 'avg_time': 0.08508923053741456}\n",
      "{'algorithm': 'scipy.FFT', 'window_size': 6700, 'avg_time': 0.09386401176452637}\n",
      "{'algorithm': 'scipy.FFT', 'window_size': 6900, 'avg_time': 0.0856809139251709}\n",
      "{'algorithm': 'scipy.FFT', 'window_size': 7100, 'avg_time': 0.09470126628875732}\n",
      "{'algorithm': 'scipy.FFT', 'window_size': 7300, 'avg_time': 0.10256688594818116}\n",
      "{'algorithm': 'scipy.FFT', 'window_size': 7500, 'avg_time': 0.08641963005065917}\n",
      "{'algorithm': 'scipy.FFT', 'window_size': 7700, 'avg_time': 0.09012479782104493}\n",
      "{'algorithm': 'scipy.FFT', 'window_size': 7900, 'avg_time': 0.11867728233337402}\n",
      "{'algorithm': 'scipy.FFT', 'window_size': 8100, 'avg_time': 0.09955008029937744}\n",
      "{'algorithm': 'scipy.FFT', 'window_size': 8300, 'avg_time': 0.12714505195617676}\n",
      "{'algorithm': 'scipy.FFT', 'window_size': 8500, 'avg_time': 0.11906423568725585}\n",
      "{'algorithm': 'scipy.FFT', 'window_size': 8700, 'avg_time': 0.118585205078125}\n",
      "{'algorithm': 'scipy.FFT', 'window_size': 8900, 'avg_time': 0.15302460193634032}\n",
      "{'algorithm': 'scipy.FFT', 'window_size': 9100, 'avg_time': 0.13768906593322755}\n",
      "{'algorithm': 'scipy.FFT', 'window_size': 9300, 'avg_time': 0.14525654315948486}\n",
      "{'algorithm': 'scipy.FFT', 'window_size': 9500, 'avg_time': 0.14603371620178224}\n",
      "{'algorithm': 'scipy.FFT', 'window_size': 9700, 'avg_time': 0.17140657901763914}\n",
      "{'algorithm': 'scipy.FFT', 'window_size': 9900, 'avg_time': 0.15977046489715577}\n"
     ]
    }
   ],
   "source": [
    "## Scipy FFt\n",
    "for window_size in window_sizes:\n",
    "    total_time = 0\n",
    "    W = ts[:window_size]\n",
    "    start_fft = sp.fft.fft(W)\n",
    "    xfreq, p_den = utility.peridogram(window_size, start_fft)\n",
    "    for idx in range(0,num_sliding_window):\n",
    "        newest_x = ts[window_size+idx]\n",
    "        oldest_x = W[0]\n",
    "        W = W[1:]\n",
    "        W = np.append(W, newest_x)\n",
    "        start_time = time.time()                        # start time\n",
    "        start_fft = sp.fft.fft(W)\n",
    "        xfreq, p_den = utility.peridogram(window_size, start_fft)\n",
    "        end_time = time.time()                          # end time\n",
    "        total_time += (end_time - start_time)\n",
    "    avg_time_ms = (total_time / num_sliding_window) * 1000\n",
    "    print({'algorithm': 'scipy.FFT',\n",
    "                    'window_size': window_size,\n",
    "                    'avg_time': avg_time_ms})\n",
    "    com_time.append({'algorithm': 'scipy.FFT',\n",
    "                    'window_size': window_size,\n",
    "                    'avg_time': avg_time_ms})"
   ],
   "metadata": {
    "collapsed": false,
    "ExecuteTime": {
     "end_time": "2024-06-20T03:11:28.892864Z",
     "start_time": "2024-06-20T03:10:51.714766Z"
    }
   },
   "id": "aaef2ac3c9baeed5"
  },
  {
   "cell_type": "code",
   "execution_count": 18,
   "outputs": [
    {
     "name": "stdout",
     "output_type": "stream",
     "text": [
      "{'algorithm': 'SDFT', 'window_size': 300, 'avg_time': 0.007167959213256836}\n",
      "{'algorithm': 'SDFT', 'window_size': 500, 'avg_time': 0.007907819747924805}\n",
      "{'algorithm': 'SDFT', 'window_size': 700, 'avg_time': 0.009437012672424316}\n",
      "{'algorithm': 'SDFT', 'window_size': 900, 'avg_time': 0.010637569427490234}\n",
      "{'algorithm': 'SDFT', 'window_size': 1100, 'avg_time': 0.01152358055114746}\n",
      "{'algorithm': 'SDFT', 'window_size': 1300, 'avg_time': 0.012562251091003418}\n",
      "{'algorithm': 'SDFT', 'window_size': 1500, 'avg_time': 0.013501667976379394}\n",
      "{'algorithm': 'SDFT', 'window_size': 1700, 'avg_time': 0.014530205726623535}\n",
      "{'algorithm': 'SDFT', 'window_size': 1900, 'avg_time': 0.01569230556488037}\n",
      "{'algorithm': 'SDFT', 'window_size': 2100, 'avg_time': 0.016522765159606934}\n",
      "{'algorithm': 'SDFT', 'window_size': 2300, 'avg_time': 0.017375469207763672}\n",
      "{'algorithm': 'SDFT', 'window_size': 2500, 'avg_time': 0.019272541999816897}\n",
      "{'algorithm': 'SDFT', 'window_size': 2700, 'avg_time': 0.019190263748168946}\n",
      "{'algorithm': 'SDFT', 'window_size': 2900, 'avg_time': 0.01986839771270752}\n",
      "{'algorithm': 'SDFT', 'window_size': 3100, 'avg_time': 0.021318674087524414}\n",
      "{'algorithm': 'SDFT', 'window_size': 3300, 'avg_time': 0.021683692932128906}\n",
      "{'algorithm': 'SDFT', 'window_size': 3500, 'avg_time': 0.02258234024047852}\n",
      "{'algorithm': 'SDFT', 'window_size': 3700, 'avg_time': 0.023589110374450682}\n",
      "{'algorithm': 'SDFT', 'window_size': 3900, 'avg_time': 0.025815534591674804}\n",
      "{'algorithm': 'SDFT', 'window_size': 4100, 'avg_time': 0.04307210445404053}\n",
      "{'algorithm': 'SDFT', 'window_size': 4300, 'avg_time': 0.043282175064086915}\n",
      "{'algorithm': 'SDFT', 'window_size': 4500, 'avg_time': 0.03791677951812744}\n",
      "{'algorithm': 'SDFT', 'window_size': 4700, 'avg_time': 0.039236831665039065}\n",
      "{'algorithm': 'SDFT', 'window_size': 4900, 'avg_time': 0.03112790584564209}\n",
      "{'algorithm': 'SDFT', 'window_size': 5100, 'avg_time': 0.0399533748626709}\n",
      "{'algorithm': 'SDFT', 'window_size': 5300, 'avg_time': 0.03982565402984619}\n",
      "{'algorithm': 'SDFT', 'window_size': 5500, 'avg_time': 0.04715926647186279}\n",
      "{'algorithm': 'SDFT', 'window_size': 5700, 'avg_time': 0.05786731243133545}\n",
      "{'algorithm': 'SDFT', 'window_size': 5900, 'avg_time': 0.05224456787109375}\n",
      "{'algorithm': 'SDFT', 'window_size': 6100, 'avg_time': 0.055380821228027344}\n",
      "{'algorithm': 'SDFT', 'window_size': 6300, 'avg_time': 0.0440143346786499}\n",
      "{'algorithm': 'SDFT', 'window_size': 6500, 'avg_time': 0.0522312879562378}\n",
      "{'algorithm': 'SDFT', 'window_size': 6700, 'avg_time': 0.054366326332092284}\n",
      "{'algorithm': 'SDFT', 'window_size': 6900, 'avg_time': 0.050545549392700194}\n",
      "{'algorithm': 'SDFT', 'window_size': 7100, 'avg_time': 0.056550598144531256}\n",
      "{'algorithm': 'SDFT', 'window_size': 7300, 'avg_time': 0.05503559112548828}\n",
      "{'algorithm': 'SDFT', 'window_size': 7500, 'avg_time': 0.06521461009979249}\n",
      "{'algorithm': 'SDFT', 'window_size': 7700, 'avg_time': 0.05602133274078369}\n",
      "{'algorithm': 'SDFT', 'window_size': 7900, 'avg_time': 0.05594954490661621}\n",
      "{'algorithm': 'SDFT', 'window_size': 8100, 'avg_time': 0.058750915527343746}\n",
      "{'algorithm': 'SDFT', 'window_size': 8300, 'avg_time': 0.10359177589416504}\n",
      "{'algorithm': 'SDFT', 'window_size': 8500, 'avg_time': 0.10445082187652588}\n",
      "{'algorithm': 'SDFT', 'window_size': 8700, 'avg_time': 0.11665263175964355}\n",
      "{'algorithm': 'SDFT', 'window_size': 8900, 'avg_time': 0.09938700199127198}\n",
      "{'algorithm': 'SDFT', 'window_size': 9100, 'avg_time': 0.14258348941802979}\n",
      "{'algorithm': 'SDFT', 'window_size': 9300, 'avg_time': 0.12016081809997559}\n",
      "{'algorithm': 'SDFT', 'window_size': 9500, 'avg_time': 0.12075347900390626}\n",
      "{'algorithm': 'SDFT', 'window_size': 9700, 'avg_time': 0.113480544090271}\n",
      "{'algorithm': 'SDFT', 'window_size': 9900, 'avg_time': 0.12043042182922363}\n"
     ]
    }
   ],
   "source": [
    "## SDFT\n",
    "for window_size in window_sizes:\n",
    "    total_time = 0\n",
    "    W = ts[:window_size]\n",
    "    start_fft = np.fft.fft(W)\n",
    "    xfreq, p_den = utility.peridogram(window_size, start_fft)\n",
    "    N = len(start_fft)\n",
    "    k = np.arange(N)\n",
    "    twiddle = np.exp(2j * np.pi * k / N)\n",
    "    for idx in range(0,num_sliding_window):\n",
    "        newest_x = ts[window_size+idx]\n",
    "        oldest_x = W[0]\n",
    "        W = W[1:]\n",
    "        W = np.append(W, newest_x)\n",
    "        start_time = time.time()                              # start time\n",
    "        start_fft = utility.update_sDFT(start_fft, oldest_x, newest_x, twiddle)\n",
    "        xfreq, p_den = utility.peridogram(window_size, start_fft)\n",
    "        end_time = time.time()                                # end time\n",
    "        total_time += (end_time - start_time)\n",
    "    \n",
    "    avg_time_ms = (total_time / num_sliding_window) * 1000\n",
    "    print({'algorithm': 'SDFT',\n",
    "                    'window_size': window_size,\n",
    "                    'avg_time': avg_time_ms})\n",
    "    com_time.append({'algorithm': 'SDFT',\n",
    "                    'window_size': window_size,\n",
    "                    'avg_time': avg_time_ms})"
   ],
   "metadata": {
    "collapsed": false,
    "ExecuteTime": {
     "end_time": "2024-06-20T03:11:54.695956Z",
     "start_time": "2024-06-20T03:11:28.887155Z"
    }
   },
   "id": "22a363b2f401f1a5"
  },
  {
   "cell_type": "markdown",
   "source": [
    "## All SLE methods"
   ],
   "metadata": {
    "collapsed": false
   },
   "id": "36bde46d74b3ec16"
  },
  {
   "cell_type": "code",
   "execution_count": 19,
   "outputs": [
    {
     "name": "stdout",
     "output_type": "stream",
     "text": [
      "{'algorithm': 'FindLength', 'window_size': 300, 'avg_time': 0.06375479698181152}\n",
      "{'algorithm': 'FindLength', 'window_size': 500, 'avg_time': 0.04910683631896973}\n",
      "{'algorithm': 'FindLength', 'window_size': 700, 'avg_time': 0.05869865417480469}\n",
      "{'algorithm': 'FindLength', 'window_size': 900, 'avg_time': 0.07236194610595703}\n",
      "{'algorithm': 'FindLength', 'window_size': 1100, 'avg_time': 0.08185291290283203}\n",
      "{'algorithm': 'FindLength', 'window_size': 1300, 'avg_time': 0.08004045486450195}\n",
      "{'algorithm': 'FindLength', 'window_size': 1500, 'avg_time': 0.08386516571044922}\n",
      "{'algorithm': 'FindLength', 'window_size': 1700, 'avg_time': 0.09490966796875}\n",
      "{'algorithm': 'FindLength', 'window_size': 1900, 'avg_time': 0.09469079971313477}\n",
      "{'algorithm': 'FindLength', 'window_size': 2100, 'avg_time': 0.11881399154663086}\n",
      "{'algorithm': 'FindLength', 'window_size': 2300, 'avg_time': 0.12229132652282715}\n",
      "{'algorithm': 'FindLength', 'window_size': 2500, 'avg_time': 0.12032175064086914}\n",
      "{'algorithm': 'FindLength', 'window_size': 2700, 'avg_time': 0.1943683624267578}\n",
      "{'algorithm': 'FindLength', 'window_size': 2900, 'avg_time': 0.1698923110961914}\n",
      "{'algorithm': 'FindLength', 'window_size': 3100, 'avg_time': 0.2534058094024658}\n",
      "{'algorithm': 'FindLength', 'window_size': 3300, 'avg_time': 0.2242119312286377}\n",
      "{'algorithm': 'FindLength', 'window_size': 3500, 'avg_time': 0.24399924278259277}\n",
      "{'algorithm': 'FindLength', 'window_size': 3700, 'avg_time': 0.24416470527648929}\n",
      "{'algorithm': 'FindLength', 'window_size': 3900, 'avg_time': 0.2181386947631836}\n",
      "{'algorithm': 'FindLength', 'window_size': 4100, 'avg_time': 0.2998805046081543}\n",
      "{'algorithm': 'FindLength', 'window_size': 4300, 'avg_time': 0.31858396530151367}\n",
      "{'algorithm': 'FindLength', 'window_size': 4500, 'avg_time': 0.23432660102844238}\n",
      "{'algorithm': 'FindLength', 'window_size': 4700, 'avg_time': 0.3228926658630371}\n",
      "{'algorithm': 'FindLength', 'window_size': 4900, 'avg_time': 0.2936594486236572}\n",
      "{'algorithm': 'FindLength', 'window_size': 5100, 'avg_time': 0.32562732696533203}\n",
      "{'algorithm': 'FindLength', 'window_size': 5300, 'avg_time': 0.2827117443084717}\n",
      "{'algorithm': 'FindLength', 'window_size': 5500, 'avg_time': 0.38477587699890137}\n",
      "{'algorithm': 'FindLength', 'window_size': 5700, 'avg_time': 0.4291825294494629}\n",
      "{'algorithm': 'FindLength', 'window_size': 5900, 'avg_time': 0.4174630641937256}\n",
      "{'algorithm': 'FindLength', 'window_size': 6100, 'avg_time': 0.35521745681762695}\n",
      "{'algorithm': 'FindLength', 'window_size': 6300, 'avg_time': 0.4521794319152832}\n",
      "{'algorithm': 'FindLength', 'window_size': 6500, 'avg_time': 0.4494597911834717}\n",
      "{'algorithm': 'FindLength', 'window_size': 6700, 'avg_time': 0.43813037872314453}\n",
      "{'algorithm': 'FindLength', 'window_size': 6900, 'avg_time': 0.4562816619873047}\n",
      "{'algorithm': 'FindLength', 'window_size': 7100, 'avg_time': 0.5485124588012695}\n",
      "{'algorithm': 'FindLength', 'window_size': 7300, 'avg_time': 0.48921942710876465}\n",
      "{'algorithm': 'FindLength', 'window_size': 7500, 'avg_time': 0.8882923126220703}\n",
      "{'algorithm': 'FindLength', 'window_size': 7700, 'avg_time': 0.5985527038574219}\n",
      "{'algorithm': 'FindLength', 'window_size': 7900, 'avg_time': 0.6256296634674072}\n",
      "{'algorithm': 'FindLength', 'window_size': 8100, 'avg_time': 0.5908718109130859}\n",
      "{'algorithm': 'FindLength', 'window_size': 8300, 'avg_time': 0.6812889575958252}\n",
      "{'algorithm': 'FindLength', 'window_size': 8500, 'avg_time': 0.7607133388519287}\n",
      "{'algorithm': 'FindLength', 'window_size': 8700, 'avg_time': 0.8258183002471924}\n",
      "{'algorithm': 'FindLength', 'window_size': 8900, 'avg_time': 0.626579761505127}\n",
      "{'algorithm': 'FindLength', 'window_size': 9100, 'avg_time': 0.795856237411499}\n",
      "{'algorithm': 'FindLength', 'window_size': 9300, 'avg_time': 0.7711236476898193}\n",
      "{'algorithm': 'FindLength', 'window_size': 9500, 'avg_time': 0.8378322124481201}\n",
      "{'algorithm': 'FindLength', 'window_size': 9700, 'avg_time': 0.7870028018951416}\n",
      "{'algorithm': 'FindLength', 'window_size': 9900, 'avg_time': 0.7839715480804443}\n"
     ]
    }
   ],
   "source": [
    "# Findlength\n",
    "num_sliding_window = 1000\n",
    "for window_size in window_sizes:\n",
    "    total_time = 0  # To accumulate the total execution time of period.find_length(buffer)\n",
    "    #\n",
    "    for idx in range(0,num_sliding_window):\n",
    "        W = ts[idx:window_size + idx]\n",
    "        start_time = time.time()\n",
    "        SLE_result = period.find_length(W)\n",
    "        end_time = time.time()\n",
    "        total_time += (end_time - start_time)\n",
    "    \n",
    "    \n",
    "    avg_time_ms = (total_time / num_sliding_window) * 1000\n",
    "    print({'algorithm': 'FindLength',\n",
    "                    'window_size': window_size,\n",
    "                    'avg_time': avg_time_ms})\n",
    "    com_time.append({'algorithm': 'FindLength',\n",
    "                    'window_size': window_size,\n",
    "                    'avg_time': avg_time_ms})"
   ],
   "metadata": {
    "collapsed": false,
    "ExecuteTime": {
     "end_time": "2024-06-20T03:12:13.376427Z",
     "start_time": "2024-06-20T03:11:54.681900Z"
    }
   },
   "id": "18dd1f748361be83"
  },
  {
   "cell_type": "code",
   "execution_count": 25,
   "outputs": [
    {
     "name": "stdout",
     "output_type": "stream",
     "text": [
      "{'algorithm': 'OnlineSLE', 'window_size': 300, 'avg_time': 0.013986825942993164}\n",
      "{'algorithm': 'OnlineSLE', 'window_size': 500, 'avg_time': 0.012061834335327148}\n",
      "{'algorithm': 'OnlineSLE', 'window_size': 700, 'avg_time': 0.011897087097167969}\n",
      "{'algorithm': 'OnlineSLE', 'window_size': 900, 'avg_time': 0.012093305587768555}\n",
      "{'algorithm': 'OnlineSLE', 'window_size': 1100, 'avg_time': 0.013168811798095703}\n",
      "{'algorithm': 'OnlineSLE', 'window_size': 1300, 'avg_time': 0.013992786407470703}\n",
      "{'algorithm': 'OnlineSLE', 'window_size': 1500, 'avg_time': 0.015344142913818361}\n",
      "{'algorithm': 'OnlineSLE', 'window_size': 1700, 'avg_time': 0.016042470932006836}\n",
      "{'algorithm': 'OnlineSLE', 'window_size': 1900, 'avg_time': 0.01705169677734375}\n",
      "{'algorithm': 'OnlineSLE', 'window_size': 2100, 'avg_time': 0.018114566802978516}\n",
      "{'algorithm': 'OnlineSLE', 'window_size': 2300, 'avg_time': 0.019338607788085938}\n",
      "{'algorithm': 'OnlineSLE', 'window_size': 2500, 'avg_time': 0.027272939682006836}\n",
      "{'algorithm': 'OnlineSLE', 'window_size': 2700, 'avg_time': 0.06914353370666504}\n",
      "{'algorithm': 'OnlineSLE', 'window_size': 2900, 'avg_time': 0.04293704032897949}\n",
      "{'algorithm': 'OnlineSLE', 'window_size': 3100, 'avg_time': 0.023090362548828125}\n",
      "{'algorithm': 'OnlineSLE', 'window_size': 3300, 'avg_time': 0.024792909622192383}\n",
      "{'algorithm': 'OnlineSLE', 'window_size': 3500, 'avg_time': 0.028321504592895508}\n",
      "{'algorithm': 'OnlineSLE', 'window_size': 3700, 'avg_time': 0.04170370101928711}\n",
      "{'algorithm': 'OnlineSLE', 'window_size': 3900, 'avg_time': 0.07732701301574707}\n",
      "{'algorithm': 'OnlineSLE', 'window_size': 4100, 'avg_time': 0.03191351890563965}\n",
      "{'algorithm': 'OnlineSLE', 'window_size': 4300, 'avg_time': 0.03365945816040039}\n",
      "{'algorithm': 'OnlineSLE', 'window_size': 4500, 'avg_time': 0.05427813529968262}\n",
      "{'algorithm': 'OnlineSLE', 'window_size': 4700, 'avg_time': 0.0676889419555664}\n",
      "{'algorithm': 'OnlineSLE', 'window_size': 4900, 'avg_time': 0.06752729415893555}\n",
      "{'algorithm': 'OnlineSLE', 'window_size': 5100, 'avg_time': 0.050095558166503906}\n",
      "{'algorithm': 'OnlineSLE', 'window_size': 5300, 'avg_time': 0.05343365669250488}\n",
      "{'algorithm': 'OnlineSLE', 'window_size': 5500, 'avg_time': 0.0529179573059082}\n",
      "{'algorithm': 'OnlineSLE', 'window_size': 5700, 'avg_time': 0.041584014892578125}\n",
      "{'algorithm': 'OnlineSLE', 'window_size': 5900, 'avg_time': 0.059355974197387695}\n",
      "{'algorithm': 'OnlineSLE', 'window_size': 6100, 'avg_time': 0.07759237289428711}\n",
      "{'algorithm': 'OnlineSLE', 'window_size': 6300, 'avg_time': 0.05166745185852051}\n",
      "{'algorithm': 'OnlineSLE', 'window_size': 6500, 'avg_time': 0.08490157127380371}\n",
      "{'algorithm': 'OnlineSLE', 'window_size': 6700, 'avg_time': 0.049979209899902344}\n",
      "{'algorithm': 'OnlineSLE', 'window_size': 6900, 'avg_time': 0.04221320152282715}\n",
      "{'algorithm': 'OnlineSLE', 'window_size': 7100, 'avg_time': 0.061298608779907234}\n",
      "{'algorithm': 'OnlineSLE', 'window_size': 7300, 'avg_time': 0.08866214752197266}\n",
      "{'algorithm': 'OnlineSLE', 'window_size': 7500, 'avg_time': 0.06508517265319824}\n",
      "{'algorithm': 'OnlineSLE', 'window_size': 7700, 'avg_time': 0.0669255256652832}\n",
      "{'algorithm': 'OnlineSLE', 'window_size': 7900, 'avg_time': 0.06371593475341797}\n",
      "{'algorithm': 'OnlineSLE', 'window_size': 8100, 'avg_time': 0.10451483726501465}\n",
      "{'algorithm': 'OnlineSLE', 'window_size': 8300, 'avg_time': 0.07583951950073242}\n",
      "{'algorithm': 'OnlineSLE', 'window_size': 8500, 'avg_time': 0.0765986442565918}\n",
      "{'algorithm': 'OnlineSLE', 'window_size': 8700, 'avg_time': 0.052230119705200195}\n",
      "{'algorithm': 'OnlineSLE', 'window_size': 8900, 'avg_time': 0.13158273696899414}\n",
      "{'algorithm': 'OnlineSLE', 'window_size': 9100, 'avg_time': 0.09262228012084961}\n",
      "{'algorithm': 'OnlineSLE', 'window_size': 9300, 'avg_time': 0.11084842681884766}\n",
      "{'algorithm': 'OnlineSLE', 'window_size': 9500, 'avg_time': 0.13338494300842285}\n",
      "{'algorithm': 'OnlineSLE', 'window_size': 9700, 'avg_time': 0.10000300407409668}\n",
      "{'algorithm': 'OnlineSLE', 'window_size': 9900, 'avg_time': 0.0829780101776123}\n"
     ]
    }
   ],
   "source": [
    "# OnlineSLE\n",
    "for window_size in window_sizes:\n",
    "    total_time = 0\n",
    "    buffer = ts[:window_size]\n",
    "    start_fft = sp.fft.fft(buffer)\n",
    "    xfreq, p_den = utility.peridogram(window_size, start_fft)\n",
    "    peak_index = utility.get_period_hints(p_den)\n",
    "    N = len(start_fft)\n",
    "    k = np.arange(N)\n",
    "    twiddle = np.exp(2j * np.pi * k / N)\n",
    "    for idx in range(0,num_sliding_window):\n",
    "        newest_x = ts[window_size+idx]\n",
    "        oldest_x = buffer[0]\n",
    "        W = W[1:]\n",
    "        W = np.append(W, newest_x)\n",
    "        start_time = time.time()\n",
    "        start_fft = utility.update_sDFT(start_fft, oldest_x, newest_x, twiddle)\n",
    "        xfreq, p_den = utility.peridogram(window_size, start_fft)\n",
    "        peak_index = utility.get_period_hints(p_den)\n",
    "        end_time = time.time()\n",
    "        total_time += (end_time - start_time)\n",
    "\n",
    "    \n",
    "    avg_time_ms = (total_time / num_sliding_window) * 1000\n",
    "\n",
    "    print({'algorithm': 'OnlineSLE',\n",
    "                    'window_size': window_size,\n",
    "                    'avg_time': avg_time_ms})\n",
    "    com_time.append({'algorithm': 'OnlineSLE',\n",
    "                    'window_size': window_size,\n",
    "                    'avg_time': avg_time_ms})"
   ],
   "metadata": {
    "collapsed": false,
    "ExecuteTime": {
     "end_time": "2024-06-20T03:15:03.935490Z",
     "start_time": "2024-06-20T03:15:01.059475Z"
    }
   },
   "id": "13991c31ee887179"
  },
  {
   "cell_type": "code",
   "execution_count": 26,
   "outputs": [
    {
     "name": "stdout",
     "output_type": "stream",
     "text": [
      "{'algorithm': 'AutoPeriod', 'window_size': 300, 'avg_time': 6.044331789016724}\n",
      "{'algorithm': 'AutoPeriod', 'window_size': 500, 'avg_time': 5.860487699508667}\n",
      "{'algorithm': 'AutoPeriod', 'window_size': 700, 'avg_time': 6.197257041931152}\n",
      "{'algorithm': 'AutoPeriod', 'window_size': 900, 'avg_time': 6.577162981033325}\n",
      "{'algorithm': 'AutoPeriod', 'window_size': 1100, 'avg_time': 6.840181350708008}\n",
      "{'algorithm': 'AutoPeriod', 'window_size': 1300, 'avg_time': 7.131649494171143}\n",
      "{'algorithm': 'AutoPeriod', 'window_size': 1500, 'avg_time': 7.722275495529175}\n",
      "{'algorithm': 'AutoPeriod', 'window_size': 1700, 'avg_time': 7.944958448410035}\n",
      "{'algorithm': 'AutoPeriod', 'window_size': 1900, 'avg_time': 8.17489242553711}\n",
      "{'algorithm': 'AutoPeriod', 'window_size': 2100, 'avg_time': 8.408364057540894}\n",
      "{'algorithm': 'AutoPeriod', 'window_size': 2300, 'avg_time': 8.85963487625122}\n",
      "{'algorithm': 'AutoPeriod', 'window_size': 2500, 'avg_time': 9.080973863601685}\n",
      "{'algorithm': 'AutoPeriod', 'window_size': 2700, 'avg_time': 9.199172496795654}\n",
      "{'algorithm': 'AutoPeriod', 'window_size': 2900, 'avg_time': 10.224123477935791}\n",
      "{'algorithm': 'AutoPeriod', 'window_size': 3100, 'avg_time': 10.118469476699829}\n",
      "{'algorithm': 'AutoPeriod', 'window_size': 3300, 'avg_time': 10.301053524017334}\n",
      "{'algorithm': 'AutoPeriod', 'window_size': 3500, 'avg_time': 10.61158561706543}\n",
      "{'algorithm': 'AutoPeriod', 'window_size': 3700, 'avg_time': 11.485278129577637}\n",
      "{'algorithm': 'AutoPeriod', 'window_size': 3900, 'avg_time': 11.264083862304688}\n",
      "{'algorithm': 'AutoPeriod', 'window_size': 4100, 'avg_time': 15.360102891921997}\n",
      "{'algorithm': 'AutoPeriod', 'window_size': 4300, 'avg_time': 14.279930353164673}\n",
      "{'algorithm': 'AutoPeriod', 'window_size': 4500, 'avg_time': 14.2692711353302}\n",
      "{'algorithm': 'AutoPeriod', 'window_size': 4700, 'avg_time': 15.679620742797853}\n",
      "{'algorithm': 'AutoPeriod', 'window_size': 4900, 'avg_time': 14.37878942489624}\n",
      "{'algorithm': 'AutoPeriod', 'window_size': 5100, 'avg_time': 13.514061689376831}\n",
      "{'algorithm': 'AutoPeriod', 'window_size': 5300, 'avg_time': 16.93578028678894}\n",
      "{'algorithm': 'AutoPeriod', 'window_size': 5500, 'avg_time': 16.480355978012085}\n",
      "{'algorithm': 'AutoPeriod', 'window_size': 5700, 'avg_time': 15.012307405471802}\n",
      "{'algorithm': 'AutoPeriod', 'window_size': 5900, 'avg_time': 17.94869875907898}\n",
      "{'algorithm': 'AutoPeriod', 'window_size': 6100, 'avg_time': 18.81737518310547}\n",
      "{'algorithm': 'AutoPeriod', 'window_size': 6300, 'avg_time': 19.122459411621094}\n",
      "{'algorithm': 'AutoPeriod', 'window_size': 6500, 'avg_time': 18.40435290336609}\n",
      "{'algorithm': 'AutoPeriod', 'window_size': 6700, 'avg_time': 19.864999294281006}\n",
      "{'algorithm': 'AutoPeriod', 'window_size': 6900, 'avg_time': 18.891849279403687}\n",
      "{'algorithm': 'AutoPeriod', 'window_size': 7100, 'avg_time': 20.775529146194458}\n",
      "{'algorithm': 'AutoPeriod', 'window_size': 7300, 'avg_time': 18.64452815055847}\n",
      "{'algorithm': 'AutoPeriod', 'window_size': 7500, 'avg_time': 18.876629114151}\n",
      "{'algorithm': 'AutoPeriod', 'window_size': 7700, 'avg_time': 19.8486111164093}\n",
      "{'algorithm': 'AutoPeriod', 'window_size': 7900, 'avg_time': 20.63081192970276}\n",
      "{'algorithm': 'AutoPeriod', 'window_size': 8100, 'avg_time': 19.17286777496338}\n",
      "{'algorithm': 'AutoPeriod', 'window_size': 8300, 'avg_time': 26.896572589874268}\n",
      "{'algorithm': 'AutoPeriod', 'window_size': 8500, 'avg_time': 26.97363543510437}\n",
      "{'algorithm': 'AutoPeriod', 'window_size': 8700, 'avg_time': 26.43980836868286}\n",
      "{'algorithm': 'AutoPeriod', 'window_size': 8900, 'avg_time': 28.719670295715332}\n",
      "{'algorithm': 'AutoPeriod', 'window_size': 9100, 'avg_time': 27.041240453720093}\n",
      "{'algorithm': 'AutoPeriod', 'window_size': 9300, 'avg_time': 27.517242193222046}\n",
      "{'algorithm': 'AutoPeriod', 'window_size': 9500, 'avg_time': 28.765777826309204}\n",
      "{'algorithm': 'AutoPeriod', 'window_size': 9700, 'avg_time': 31.307614088058475}\n",
      "{'algorithm': 'AutoPeriod', 'window_size': 9900, 'avg_time': 27.925015687942505}\n"
     ]
    }
   ],
   "source": [
    "# AutoPeriod\n",
    "for window_size in window_sizes:\n",
    "    total_time = 0  # To accumulate the total execution time of period.find_length(buffer)\n",
    "    #\n",
    "    for idx in range(0,num_sliding_window):\n",
    "        W = ts[idx:window_size + idx]\n",
    "        start_time = time.time()\n",
    "        SLE_result = period.autoperiod(W)\n",
    "        end_time = time.time()\n",
    "        total_time += (end_time - start_time)\n",
    "    \n",
    "    avg_time_ms = (total_time / num_sliding_window) * 1000\n",
    "    print({'algorithm': 'AutoPeriod',\n",
    "                    'window_size': window_size,\n",
    "                    'avg_time': avg_time_ms})\n",
    "    com_time.append({'algorithm': 'AutoPeriod',\n",
    "                    'window_size': window_size,\n",
    "                    'avg_time': avg_time_ms})"
   ],
   "metadata": {
    "collapsed": false,
    "ExecuteTime": {
     "end_time": "2024-06-20T03:28:24.524432Z",
     "start_time": "2024-06-20T03:15:23.950699Z"
    }
   },
   "id": "8415ef802acf5b3d"
  },
  {
   "cell_type": "code",
   "execution_count": 27,
   "outputs": [
    {
     "name": "stdout",
     "output_type": "stream",
     "text": [
      "{'algorithm': 'SAZED', 'window_size': 300, 'avg_time': 2.970956325531006}\n",
      "{'algorithm': 'SAZED', 'window_size': 500, 'avg_time': 3.2626607418060303}\n",
      "{'algorithm': 'SAZED', 'window_size': 700, 'avg_time': 4.053409099578857}\n",
      "{'algorithm': 'SAZED', 'window_size': 900, 'avg_time': 4.268062353134155}\n",
      "{'algorithm': 'SAZED', 'window_size': 1100, 'avg_time': 5.681976795196533}\n",
      "{'algorithm': 'SAZED', 'window_size': 1300, 'avg_time': 6.479280710220337}\n",
      "{'algorithm': 'SAZED', 'window_size': 1500, 'avg_time': 6.683234930038452}\n",
      "{'algorithm': 'SAZED', 'window_size': 1700, 'avg_time': 7.846972703933716}\n",
      "{'algorithm': 'SAZED', 'window_size': 1900, 'avg_time': 7.410200119018555}\n",
      "{'algorithm': 'SAZED', 'window_size': 2100, 'avg_time': 9.839956760406494}\n",
      "{'algorithm': 'SAZED', 'window_size': 2300, 'avg_time': 10.293546199798584}\n",
      "{'algorithm': 'SAZED', 'window_size': 2500, 'avg_time': 11.087953329086304}\n",
      "{'algorithm': 'SAZED', 'window_size': 2700, 'avg_time': 13.151480913162231}\n",
      "{'algorithm': 'SAZED', 'window_size': 2900, 'avg_time': 12.228667497634888}\n",
      "{'algorithm': 'SAZED', 'window_size': 3100, 'avg_time': 12.836572647094727}\n",
      "{'algorithm': 'SAZED', 'window_size': 3300, 'avg_time': 14.229410648345947}\n",
      "{'algorithm': 'SAZED', 'window_size': 3500, 'avg_time': 16.249802827835083}\n",
      "{'algorithm': 'SAZED', 'window_size': 3700, 'avg_time': 16.01698923110962}\n",
      "{'algorithm': 'SAZED', 'window_size': 3900, 'avg_time': 19.13352942466736}\n",
      "{'algorithm': 'SAZED', 'window_size': 4100, 'avg_time': 29.664341688156128}\n",
      "{'algorithm': 'SAZED', 'window_size': 4300, 'avg_time': 28.607619285583496}\n",
      "{'algorithm': 'SAZED', 'window_size': 4500, 'avg_time': 30.817883014678955}\n",
      "{'algorithm': 'SAZED', 'window_size': 4700, 'avg_time': 30.215265035629272}\n",
      "{'algorithm': 'SAZED', 'window_size': 4900, 'avg_time': 39.224255084991455}\n",
      "{'algorithm': 'SAZED', 'window_size': 5100, 'avg_time': 32.43817353248596}\n",
      "{'algorithm': 'SAZED', 'window_size': 5300, 'avg_time': 33.757471323013306}\n",
      "{'algorithm': 'SAZED', 'window_size': 5500, 'avg_time': 36.352622509002686}\n",
      "{'algorithm': 'SAZED', 'window_size': 5700, 'avg_time': 39.5499107837677}\n",
      "{'algorithm': 'SAZED', 'window_size': 5900, 'avg_time': 38.731778383255005}\n",
      "{'algorithm': 'SAZED', 'window_size': 6100, 'avg_time': 42.531896352767944}\n",
      "{'algorithm': 'SAZED', 'window_size': 6300, 'avg_time': 43.49149179458618}\n",
      "{'algorithm': 'SAZED', 'window_size': 6500, 'avg_time': 55.08376169204712}\n",
      "{'algorithm': 'SAZED', 'window_size': 6700, 'avg_time': 44.41644787788391}\n",
      "{'algorithm': 'SAZED', 'window_size': 6900, 'avg_time': 46.47043824195862}\n",
      "{'algorithm': 'SAZED', 'window_size': 7100, 'avg_time': 51.7955539226532}\n",
      "{'algorithm': 'SAZED', 'window_size': 7300, 'avg_time': 50.76539993286133}\n",
      "{'algorithm': 'SAZED', 'window_size': 7500, 'avg_time': 53.41858768463135}\n",
      "{'algorithm': 'SAZED', 'window_size': 7700, 'avg_time': 59.09435296058655}\n",
      "{'algorithm': 'SAZED', 'window_size': 7900, 'avg_time': 63.37475705146789}\n",
      "{'algorithm': 'SAZED', 'window_size': 8100, 'avg_time': 81.20048570632935}\n",
      "{'algorithm': 'SAZED', 'window_size': 8300, 'avg_time': 92.86586785316467}\n",
      "{'algorithm': 'SAZED', 'window_size': 8500, 'avg_time': 85.18718552589417}\n",
      "{'algorithm': 'SAZED', 'window_size': 8700, 'avg_time': 85.18595504760742}\n",
      "{'algorithm': 'SAZED', 'window_size': 8900, 'avg_time': 108.26242256164551}\n",
      "{'algorithm': 'SAZED', 'window_size': 9100, 'avg_time': 85.75307106971741}\n",
      "{'algorithm': 'SAZED', 'window_size': 9300, 'avg_time': 87.58874726295471}\n",
      "{'algorithm': 'SAZED', 'window_size': 9500, 'avg_time': 86.19449663162231}\n",
      "{'algorithm': 'SAZED', 'window_size': 9700, 'avg_time': 89.43688988685608}\n",
      "{'algorithm': 'SAZED', 'window_size': 9900, 'avg_time': 93.97498440742493}\n"
     ]
    }
   ],
   "source": [
    "# SAZED\n",
    "import rpy2.robjects as robjects\n",
    "from rpy2.robjects.packages import importr\n",
    "sazedR = importr('sazedR')          # sazedR in CRAN\n",
    "\n",
    "for window_size in window_sizes:\n",
    "    total_time = 0\n",
    "    for idx in range(0,num_sliding_window):\n",
    "        W = ts[idx:window_size + idx]\n",
    "        W = robjects.FloatVector(W)\n",
    "        start_time = time.time()\n",
    "        SLE_result = sazedR.sazed(W)\n",
    "        end_time = time.time()\n",
    "        total_time += (end_time - start_time)\n",
    "    \n",
    "    avg_time_ms = (total_time / num_sliding_window) * 1000\n",
    "    print({'algorithm': 'SAZED',\n",
    "                    'window_size': window_size,\n",
    "                    'avg_time': avg_time_ms})\n",
    "    com_time.append({'algorithm': 'SAZED',\n",
    "                    'window_size': window_size,\n",
    "                    'avg_time': avg_time_ms})"
   ],
   "metadata": {
    "collapsed": false,
    "ExecuteTime": {
     "end_time": "2024-06-20T04:00:40.354526Z",
     "start_time": "2024-06-20T03:28:24.530777Z"
    }
   },
   "id": "7183cd5982fdb86b"
  },
  {
   "cell_type": "code",
   "execution_count": 30,
   "outputs": [],
   "source": [
    "import pandas as pd\n",
    "df = pd.DataFrame(com_time)"
   ],
   "metadata": {
    "collapsed": false,
    "ExecuteTime": {
     "end_time": "2024-06-20T04:05:16.097121Z",
     "start_time": "2024-06-20T04:05:16.082679Z"
    }
   },
   "id": "fc2a1d202c5bef59"
  },
  {
   "cell_type": "code",
   "execution_count": 31,
   "outputs": [
    {
     "name": "stderr",
     "output_type": "stream",
     "text": [
      "/var/folders/39/cpb13rr53hx1nyfrgqhk18pc0000gn/T/ipykernel_95748/55142410.py:2: MatplotlibDeprecationWarning: The get_cmap function was deprecated in Matplotlib 3.7 and will be removed two minor releases later. Use ``matplotlib.colormaps[name]`` or ``matplotlib.colormaps.get_cmap(obj)`` instead.\n",
      "  colors = plt.cm.get_cmap('tab10', len(algorithms))\n",
      "The PostScript backend does not support transparency; partially transparent artists will be rendered opaque.\n"
     ]
    },
    {
     "data": {
      "text/plain": "<Figure size 1500x400 with 3 Axes>",
      "image/png": "[encoded data removed]"
     },
     "metadata": {},
     "output_type": "display_data"
    }
   ],
   "source": [
    "\n",
    "algorithms = ['OnlineSLE','FindLength','AutoPeriod', 'SAZED']\n",
    "colors = plt.cm.get_cmap('tab10', len(algorithms))\n",
    "\n",
    "fig, axs = plt.subplots(1, 3, figsize=(15, 4))\n",
    "\n",
    "\n",
    "subset = df[df['algorithm'] == 'SDFT']\n",
    "axs[0].plot(subset['window_size'], subset['avg_time'], linestyle='-', \n",
    "             color='red', label='SDFT')\n",
    "subset = df[df['algorithm'] == 'numpy.FFT']\n",
    "axs[0].plot(subset['window_size'], subset['avg_time'], linestyle='-', \n",
    "             color='blue', label='numpy.FFT')\n",
    "subset = df[df['algorithm'] == 'scipy.FFT']\n",
    "axs[0].plot(subset['window_size'], subset['avg_time'], linestyle='-', \n",
    "             color='green', label='scipy.FFT')\n",
    "\n",
    "axs[0].set_xlabel('Sliding Window Size', fontsize=14)\n",
    "axs[0].set_ylabel('Avg. time (msec)', fontsize=14) \n",
    "axs[0].set_title('Periodogram', fontsize=14)\n",
    "axs[0].legend()\n",
    "\n",
    "for i, algorithm in enumerate(algorithms):\n",
    "    subset = df[df['algorithm'] == algorithm]\n",
    "    axs[1].plot(subset['window_size'], subset['avg_time'], linestyle='-', \n",
    "             color=colors(i), label=algorithm)\n",
    "\n",
    "# plt.title('Accuracy Rate (Fig5a)', fontsize=16)\n",
    "axs[1].set_xlabel('Sliding Window Size', fontsize=14)\n",
    "axs[1].set_ylabel('Avg. time (msec)', fontsize=14)\n",
    "axs[1].set_title('SLE methods', fontsize=14)\n",
    "axs[1].legend()\n",
    "\n",
    "for i, algorithm in enumerate(algorithms[:2]):\n",
    "    subset = df[df['algorithm'] == algorithm]\n",
    "    axs[2].plot(subset['window_size'], subset['avg_time'], linestyle='-', \n",
    "             color=colors(i), label=algorithm)\n",
    "\n",
    "# plt.title('Accuracy Rate (Fig5a)', fontsize=16)\n",
    "axs[2].set_xlabel('Sliding Window Size', fontsize=14)\n",
    "axs[2].set_ylabel('Avg. time (msec)', fontsize=14) \n",
    "axs[2].set_title('SLE methods', fontsize=14)\n",
    "axs[2].legend()\n",
    "\n",
    "plt.tight_layout()\n",
    "plt.savefig('acc_time.eps',format='eps')"
   ],
   "metadata": {
    "collapsed": false,
    "ExecuteTime": {
     "end_time": "2024-06-20T04:05:17.063256Z",
     "start_time": "2024-06-20T04:05:16.729846Z"
    }
   },
   "id": "9460b66d5796cfd4"
  },
  {
   "cell_type": "code",
   "execution_count": null,
   "outputs": [],
   "source": [
    "colors = plt.cm.get_cmap('tab10', len(algorithms))\n",
    "colors"
   ],
   "metadata": {
    "collapsed": false,
    "ExecuteTime": {
     "start_time": "2024-06-20T03:12:13.396944Z"
    }
   },
   "id": "5332d4b3bab50229"
  },
  {
   "cell_type": "code",
   "execution_count": null,
   "outputs": [],
   "source": [],
   "metadata": {
    "collapsed": false,
    "ExecuteTime": {
     "start_time": "2024-06-20T03:12:13.397859Z"
    }
   },
   "id": "e3b4d6edf24f221b"
  }
 ],
 "metadata": {
  "kernelspec": {
   "display_name": "Python 3",
   "language": "python",
   "name": "python3"
  },
  "language_info": {
   "codemirror_mode": {
    "name": "ipython",
    "version": 2
   },
   "file_extension": ".py",
   "mimetype": "text/x-python",
   "name": "python",
   "nbconvert_exporter": "python",
   "pygments_lexer": "ipython2",
   "version": "2.7.6"
  }
 },
 "nbformat": 4,
 "nbformat_minor": 5
}
