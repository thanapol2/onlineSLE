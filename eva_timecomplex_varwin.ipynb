{
 "cells": [
  {
   "cell_type": "markdown",
   "id": "c7de019a",
   "metadata": {},
   "source": [
    "## This is a new evaluation for presentation at SCIA-2024 (Takamatsu)"
   ]
  },
  {
   "cell_type": "code",
   "execution_count": 11,
   "id": "ad45c7d6",
   "metadata": {
    "ExecuteTime": {
     "end_time": "2024-07-09T13:55:44.310194Z",
     "start_time": "2024-07-09T13:55:44.302327Z"
    }
   },
   "outputs": [],
   "source": [
    "import numpy as np\n",
    "import scipy as sp\n",
    "from scipy import stats\n",
    "import periodicity_detection as period\n",
    "import time\n",
    "from src.gen_synthetic import sinewave\n",
    "import src.onlineSLE as utility\n",
    "\n",
    "import matplotlib.pyplot as plt"
   ]
  },
  {
   "cell_type": "markdown",
   "id": "79f2a645",
   "metadata": {},
   "source": [
    "## Full length data"
   ]
  },
  {
   "cell_type": "code",
   "execution_count": 12,
   "id": "e83f54ea",
   "metadata": {
    "ExecuteTime": {
     "end_time": "2024-07-09T13:55:45.407586Z",
     "start_time": "2024-07-09T13:55:45.399274Z"
    }
   },
   "outputs": [
    {
     "name": "stdout",
     "output_type": "stream",
     "text": [
      "range(300, 10000, 200)\n"
     ]
    }
   ],
   "source": [
    "np.random.seed(0)\n",
    "seasonal = sinewave(25000,100,1)\n",
    "residual = 0.2 * np.random.randn(len(seasonal))\n",
    "ts = stats.zscore(seasonal+ residual)\n",
    "\n",
    "window_sizes = range(300,10000,200)\n",
    "print(window_sizes)\n",
    "com_time = []\n",
    "num_sliding_window = 10000"
   ]
  },
  {
   "cell_type": "markdown",
   "id": "1e98e6ef",
   "metadata": {},
   "source": [
    "## Periodogram"
   ]
  },
  {
   "cell_type": "code",
   "execution_count": 13,
   "id": "418e08a3",
   "metadata": {
    "ExecuteTime": {
     "end_time": "2024-07-09T13:56:27.563617Z",
     "start_time": "2024-07-09T13:55:46.606968Z"
    }
   },
   "outputs": [
    {
     "name": "stdout",
     "output_type": "stream",
     "text": [
      "{'algorithm': 'numpy.FFT', 'window_size': 300, 'avg_time': 0.008717703819274903}\n",
      "{'algorithm': 'numpy.FFT', 'window_size': 500, 'avg_time': 0.009534955024719238}\n",
      "{'algorithm': 'numpy.FFT', 'window_size': 700, 'avg_time': 0.011930465698242188}\n",
      "{'algorithm': 'numpy.FFT', 'window_size': 900, 'avg_time': 0.013832902908325194}\n",
      "{'algorithm': 'numpy.FFT', 'window_size': 1100, 'avg_time': 0.022124457359313964}\n",
      "{'algorithm': 'numpy.FFT', 'window_size': 1300, 'avg_time': 0.02200322151184082}\n",
      "{'algorithm': 'numpy.FFT', 'window_size': 1500, 'avg_time': 0.029918408393859865}\n",
      "{'algorithm': 'numpy.FFT', 'window_size': 1700, 'avg_time': 0.035969662666320804}\n",
      "{'algorithm': 'numpy.FFT', 'window_size': 1900, 'avg_time': 0.03469195365905762}\n",
      "{'algorithm': 'numpy.FFT', 'window_size': 2100, 'avg_time': 0.029912900924682618}\n",
      "{'algorithm': 'numpy.FFT', 'window_size': 2300, 'avg_time': 0.041970252990722656}\n",
      "{'algorithm': 'numpy.FFT', 'window_size': 2500, 'avg_time': 0.04576570987701416}\n",
      "{'algorithm': 'numpy.FFT', 'window_size': 2700, 'avg_time': 0.04152083396911621}\n",
      "{'algorithm': 'numpy.FFT', 'window_size': 2900, 'avg_time': 0.04300365447998047}\n",
      "{'algorithm': 'numpy.FFT', 'window_size': 3100, 'avg_time': 0.0456528902053833}\n",
      "{'algorithm': 'numpy.FFT', 'window_size': 3300, 'avg_time': 0.04023587703704834}\n",
      "{'algorithm': 'numpy.FFT', 'window_size': 3500, 'avg_time': 0.042112779617309574}\n",
      "{'algorithm': 'numpy.FFT', 'window_size': 3700, 'avg_time': 0.0566218376159668}\n",
      "{'algorithm': 'numpy.FFT', 'window_size': 3900, 'avg_time': 0.04943351745605469}\n",
      "{'algorithm': 'numpy.FFT', 'window_size': 4100, 'avg_time': 0.0667752742767334}\n",
      "{'algorithm': 'numpy.FFT', 'window_size': 4300, 'avg_time': 0.06935372352600098}\n",
      "{'algorithm': 'numpy.FFT', 'window_size': 4500, 'avg_time': 0.052373862266540526}\n",
      "{'algorithm': 'numpy.FFT', 'window_size': 4700, 'avg_time': 0.0775411605834961}\n",
      "{'algorithm': 'numpy.FFT', 'window_size': 4900, 'avg_time': 0.0612424373626709}\n",
      "{'algorithm': 'numpy.FFT', 'window_size': 5100, 'avg_time': 0.06676506996154785}\n",
      "{'algorithm': 'numpy.FFT', 'window_size': 5300, 'avg_time': 0.0912475824356079}\n",
      "{'algorithm': 'numpy.FFT', 'window_size': 5500, 'avg_time': 0.06669480800628662}\n",
      "{'algorithm': 'numpy.FFT', 'window_size': 5700, 'avg_time': 0.07553567886352539}\n",
      "{'algorithm': 'numpy.FFT', 'window_size': 5900, 'avg_time': 0.10304832458496094}\n",
      "{'algorithm': 'numpy.FFT', 'window_size': 6100, 'avg_time': 0.10777232646942139}\n",
      "{'algorithm': 'numpy.FFT', 'window_size': 6300, 'avg_time': 0.07343425750732423}\n",
      "{'algorithm': 'numpy.FFT', 'window_size': 6500, 'avg_time': 0.08288145065307617}\n",
      "{'algorithm': 'numpy.FFT', 'window_size': 6700, 'avg_time': 0.12417349815368653}\n",
      "{'algorithm': 'numpy.FFT', 'window_size': 6900, 'avg_time': 0.0932847023010254}\n",
      "{'algorithm': 'numpy.FFT', 'window_size': 7100, 'avg_time': 0.13283958435058593}\n",
      "{'algorithm': 'numpy.FFT', 'window_size': 7300, 'avg_time': 0.13668272495269776}\n",
      "{'algorithm': 'numpy.FFT', 'window_size': 7500, 'avg_time': 0.08382017612457275}\n",
      "{'algorithm': 'numpy.FFT', 'window_size': 7700, 'avg_time': 0.09334559440612793}\n",
      "{'algorithm': 'numpy.FFT', 'window_size': 7900, 'avg_time': 0.15605375766754148}\n",
      "{'algorithm': 'numpy.FFT', 'window_size': 8100, 'avg_time': 0.09548771381378174}\n",
      "{'algorithm': 'numpy.FFT', 'window_size': 8300, 'avg_time': 0.17794671058654787}\n",
      "{'algorithm': 'numpy.FFT', 'window_size': 8500, 'avg_time': 0.11485838890075684}\n",
      "{'algorithm': 'numpy.FFT', 'window_size': 8700, 'avg_time': 0.12850813865661623}\n",
      "{'algorithm': 'numpy.FFT', 'window_size': 8900, 'avg_time': 0.19888687133789062}\n",
      "{'algorithm': 'numpy.FFT', 'window_size': 9100, 'avg_time': 0.12148394584655761}\n",
      "{'algorithm': 'numpy.FFT', 'window_size': 9300, 'avg_time': 0.14289288520812987}\n",
      "{'algorithm': 'numpy.FFT', 'window_size': 9500, 'avg_time': 0.1329409122467041}\n",
      "{'algorithm': 'numpy.FFT', 'window_size': 9700, 'avg_time': 0.22996222972869873}\n",
      "{'algorithm': 'numpy.FFT', 'window_size': 9900, 'avg_time': 0.12101492881774902}\n"
     ]
    }
   ],
   "source": [
    "## NumpyFFT\n",
    "\n",
    "for window_size in window_sizes:\n",
    "    total_time = 0\n",
    "    W = ts[:window_size]\n",
    "    start_fft = np.fft.fft(W)\n",
    "    xfreq, p_den = utility.peridogram(window_size, start_fft)\n",
    "    for idx in range(0,num_sliding_window):\n",
    "        newest_x = ts[window_size+idx]\n",
    "        oldest_x = W[0]\n",
    "        W = W[1:]\n",
    "        W = np.append(W, newest_x)\n",
    "        start_time = time.time()            # start time\n",
    "        start_fft = np.fft.fft(W)\n",
    "        xfreq, p_den = utility.peridogram(window_size, start_fft)\n",
    "        end_time = time.time()              # end time\n",
    "        total_time += (end_time - start_time)\n",
    "    avg_time_ms = (total_time / num_sliding_window) * 1000\n",
    "    print({'algorithm': 'numpy.FFT',\n",
    "                    'window_size': window_size,\n",
    "                    'avg_time': avg_time_ms})\n",
    "    com_time.append({'algorithm': 'numpy.FFT',\n",
    "                    'window_size': window_size,\n",
    "                    'avg_time': avg_time_ms})"
   ]
  },
  {
   "cell_type": "code",
   "execution_count": 14,
   "id": "47a4684c",
   "metadata": {
    "ExecuteTime": {
     "end_time": "2024-07-09T13:56:57.341650Z",
     "start_time": "2024-07-09T13:56:27.565489Z"
    }
   },
   "outputs": [
    {
     "name": "stdout",
     "output_type": "stream",
     "text": [
      "{'algorithm': 'scipy.FFT', 'window_size': 300, 'avg_time': 0.008440923690795897}\n",
      "{'algorithm': 'scipy.FFT', 'window_size': 500, 'avg_time': 0.010188794136047364}\n",
      "{'algorithm': 'scipy.FFT', 'window_size': 700, 'avg_time': 0.012303352355957031}\n",
      "{'algorithm': 'scipy.FFT', 'window_size': 900, 'avg_time': 0.013833212852478027}\n",
      "{'algorithm': 'scipy.FFT', 'window_size': 1100, 'avg_time': 0.016137361526489258}\n",
      "{'algorithm': 'scipy.FFT', 'window_size': 1300, 'avg_time': 0.017931151390075683}\n",
      "{'algorithm': 'scipy.FFT', 'window_size': 1500, 'avg_time': 0.019040822982788086}\n",
      "{'algorithm': 'scipy.FFT', 'window_size': 1700, 'avg_time': 0.02157576084136963}\n",
      "{'algorithm': 'scipy.FFT', 'window_size': 1900, 'avg_time': 0.02350482940673828}\n",
      "{'algorithm': 'scipy.FFT', 'window_size': 2100, 'avg_time': 0.025292587280273438}\n",
      "{'algorithm': 'scipy.FFT', 'window_size': 2300, 'avg_time': 0.02610602378845215}\n",
      "{'algorithm': 'scipy.FFT', 'window_size': 2500, 'avg_time': 0.028031635284423827}\n",
      "{'algorithm': 'scipy.FFT', 'window_size': 2700, 'avg_time': 0.029230642318725585}\n",
      "{'algorithm': 'scipy.FFT', 'window_size': 2900, 'avg_time': 0.03321764469146729}\n",
      "{'algorithm': 'scipy.FFT', 'window_size': 3100, 'avg_time': 0.035416603088378906}\n",
      "{'algorithm': 'scipy.FFT', 'window_size': 3300, 'avg_time': 0.03776814937591553}\n",
      "{'algorithm': 'scipy.FFT', 'window_size': 3500, 'avg_time': 0.03950502872467041}\n",
      "{'algorithm': 'scipy.FFT', 'window_size': 3700, 'avg_time': 0.042101693153381345}\n",
      "{'algorithm': 'scipy.FFT', 'window_size': 3900, 'avg_time': 0.039589858055114745}\n",
      "{'algorithm': 'scipy.FFT', 'window_size': 4100, 'avg_time': 0.048105835914611816}\n",
      "{'algorithm': 'scipy.FFT', 'window_size': 4300, 'avg_time': 0.05002126693725586}\n",
      "{'algorithm': 'scipy.FFT', 'window_size': 4500, 'avg_time': 0.04729440212249756}\n",
      "{'algorithm': 'scipy.FFT', 'window_size': 4700, 'avg_time': 0.05417423248291015}\n",
      "{'algorithm': 'scipy.FFT', 'window_size': 4900, 'avg_time': 0.05414257049560547}\n",
      "{'algorithm': 'scipy.FFT', 'window_size': 5100, 'avg_time': 0.054892468452453616}\n",
      "{'algorithm': 'scipy.FFT', 'window_size': 5300, 'avg_time': 0.06077077388763428}\n",
      "{'algorithm': 'scipy.FFT', 'window_size': 5500, 'avg_time': 0.05766587257385254}\n",
      "{'algorithm': 'scipy.FFT', 'window_size': 5700, 'avg_time': 0.05909442901611328}\n",
      "{'algorithm': 'scipy.FFT', 'window_size': 5900, 'avg_time': 0.06843717098236084}\n",
      "{'algorithm': 'scipy.FFT', 'window_size': 6100, 'avg_time': 0.07154715061187744}\n",
      "{'algorithm': 'scipy.FFT', 'window_size': 6300, 'avg_time': 0.06884486675262451}\n",
      "{'algorithm': 'scipy.FFT', 'window_size': 6500, 'avg_time': 0.06759252548217773}\n",
      "{'algorithm': 'scipy.FFT', 'window_size': 6700, 'avg_time': 0.08184750080108642}\n",
      "{'algorithm': 'scipy.FFT', 'window_size': 6900, 'avg_time': 0.07237567901611329}\n",
      "{'algorithm': 'scipy.FFT', 'window_size': 7100, 'avg_time': 0.08682408332824708}\n",
      "{'algorithm': 'scipy.FFT', 'window_size': 7300, 'avg_time': 0.08793516159057617}\n",
      "{'algorithm': 'scipy.FFT', 'window_size': 7500, 'avg_time': 0.07385272979736329}\n",
      "{'algorithm': 'scipy.FFT', 'window_size': 7700, 'avg_time': 0.08326504230499268}\n",
      "{'algorithm': 'scipy.FFT', 'window_size': 7900, 'avg_time': 0.09682903289794922}\n",
      "{'algorithm': 'scipy.FFT', 'window_size': 8100, 'avg_time': 0.08045125007629395}\n",
      "{'algorithm': 'scipy.FFT', 'window_size': 8300, 'avg_time': 0.10424747467041016}\n",
      "{'algorithm': 'scipy.FFT', 'window_size': 8500, 'avg_time': 0.0841784954071045}\n",
      "{'algorithm': 'scipy.FFT', 'window_size': 8700, 'avg_time': 0.08944411277770996}\n",
      "{'algorithm': 'scipy.FFT', 'window_size': 8900, 'avg_time': 0.10917913913726807}\n",
      "{'algorithm': 'scipy.FFT', 'window_size': 9100, 'avg_time': 0.09574661254882812}\n",
      "{'algorithm': 'scipy.FFT', 'window_size': 9300, 'avg_time': 0.09496862888336181}\n",
      "{'algorithm': 'scipy.FFT', 'window_size': 9500, 'avg_time': 0.09495108127593993}\n",
      "{'algorithm': 'scipy.FFT', 'window_size': 9700, 'avg_time': 0.12098495960235596}\n",
      "{'algorithm': 'scipy.FFT', 'window_size': 9900, 'avg_time': 0.09885256290435791}\n"
     ]
    }
   ],
   "source": [
    "## Scipy FFt\n",
    "for window_size in window_sizes:\n",
    "    total_time = 0\n",
    "    W = ts[:window_size]\n",
    "    start_fft = sp.fft.fft(W)\n",
    "    xfreq, p_den = utility.peridogram(window_size, start_fft)\n",
    "    for idx in range(0,num_sliding_window):\n",
    "        newest_x = ts[window_size+idx]\n",
    "        oldest_x = W[0]\n",
    "        W = W[1:]\n",
    "        W = np.append(W, newest_x)\n",
    "        start_time = time.time()                        # start time\n",
    "        start_fft = sp.fft.fft(W)\n",
    "        xfreq, p_den = utility.peridogram(window_size, start_fft)\n",
    "        end_time = time.time()                          # end time\n",
    "        total_time += (end_time - start_time)\n",
    "    avg_time_ms = (total_time / num_sliding_window) * 1000\n",
    "    print({'algorithm': 'scipy.FFT',\n",
    "                    'window_size': window_size,\n",
    "                    'avg_time': avg_time_ms})\n",
    "    com_time.append({'algorithm': 'scipy.FFT',\n",
    "                    'window_size': window_size,\n",
    "                    'avg_time': avg_time_ms})"
   ]
  },
  {
   "cell_type": "code",
   "execution_count": 15,
   "id": "1533ef79",
   "metadata": {
    "ExecuteTime": {
     "end_time": "2024-07-09T13:57:14.930234Z",
     "start_time": "2024-07-09T13:56:57.341831Z"
    }
   },
   "outputs": [
    {
     "name": "stdout",
     "output_type": "stream",
     "text": [
      "{'algorithm': 'SDFT', 'window_size': 300, 'avg_time': 0.007054805755615234}\n",
      "{'algorithm': 'SDFT', 'window_size': 500, 'avg_time': 0.007991576194763183}\n",
      "{'algorithm': 'SDFT', 'window_size': 700, 'avg_time': 0.009439897537231446}\n",
      "{'algorithm': 'SDFT', 'window_size': 900, 'avg_time': 0.010513615608215331}\n",
      "{'algorithm': 'SDFT', 'window_size': 1100, 'avg_time': 0.0114396333694458}\n",
      "{'algorithm': 'SDFT', 'window_size': 1300, 'avg_time': 0.012734484672546387}\n",
      "{'algorithm': 'SDFT', 'window_size': 1500, 'avg_time': 0.013573980331420899}\n",
      "{'algorithm': 'SDFT', 'window_size': 1700, 'avg_time': 0.014549708366394043}\n",
      "{'algorithm': 'SDFT', 'window_size': 1900, 'avg_time': 0.015559005737304689}\n",
      "{'algorithm': 'SDFT', 'window_size': 2100, 'avg_time': 0.01645212173461914}\n",
      "{'algorithm': 'SDFT', 'window_size': 2300, 'avg_time': 0.01730504035949707}\n",
      "{'algorithm': 'SDFT', 'window_size': 2500, 'avg_time': 0.018202614784240723}\n",
      "{'algorithm': 'SDFT', 'window_size': 2700, 'avg_time': 0.019247722625732423}\n",
      "{'algorithm': 'SDFT', 'window_size': 2900, 'avg_time': 0.020127964019775388}\n",
      "{'algorithm': 'SDFT', 'window_size': 3100, 'avg_time': 0.020998001098632812}\n",
      "{'algorithm': 'SDFT', 'window_size': 3300, 'avg_time': 0.022036743164062497}\n",
      "{'algorithm': 'SDFT', 'window_size': 3500, 'avg_time': 0.022901916503906248}\n",
      "{'algorithm': 'SDFT', 'window_size': 3700, 'avg_time': 0.023857092857360842}\n",
      "{'algorithm': 'SDFT', 'window_size': 3900, 'avg_time': 0.02475583553314209}\n",
      "{'algorithm': 'SDFT', 'window_size': 4100, 'avg_time': 0.02767369747161865}\n",
      "{'algorithm': 'SDFT', 'window_size': 4300, 'avg_time': 0.030364084243774413}\n",
      "{'algorithm': 'SDFT', 'window_size': 4500, 'avg_time': 0.03066966533660889}\n",
      "{'algorithm': 'SDFT', 'window_size': 4700, 'avg_time': 0.031053781509399414}\n",
      "{'algorithm': 'SDFT', 'window_size': 4900, 'avg_time': 0.03147509098052979}\n",
      "{'algorithm': 'SDFT', 'window_size': 5100, 'avg_time': 0.03292558193206787}\n",
      "{'algorithm': 'SDFT', 'window_size': 5300, 'avg_time': 0.036638617515563965}\n",
      "{'algorithm': 'SDFT', 'window_size': 5500, 'avg_time': 0.033774590492248534}\n",
      "{'algorithm': 'SDFT', 'window_size': 5700, 'avg_time': 0.03481647968292236}\n",
      "{'algorithm': 'SDFT', 'window_size': 5900, 'avg_time': 0.03592681884765625}\n",
      "{'algorithm': 'SDFT', 'window_size': 6100, 'avg_time': 0.03768424987792969}\n",
      "{'algorithm': 'SDFT', 'window_size': 6300, 'avg_time': 0.040577244758605954}\n",
      "{'algorithm': 'SDFT', 'window_size': 6500, 'avg_time': 0.03917009830474854}\n",
      "{'algorithm': 'SDFT', 'window_size': 6700, 'avg_time': 0.04165387153625488}\n",
      "{'algorithm': 'SDFT', 'window_size': 6900, 'avg_time': 0.0424135684967041}\n",
      "{'algorithm': 'SDFT', 'window_size': 7100, 'avg_time': 0.043884897232055665}\n",
      "{'algorithm': 'SDFT', 'window_size': 7300, 'avg_time': 0.04274449348449707}\n",
      "{'algorithm': 'SDFT', 'window_size': 7500, 'avg_time': 0.044149136543273924}\n",
      "{'algorithm': 'SDFT', 'window_size': 7700, 'avg_time': 0.04394276142120362}\n",
      "{'algorithm': 'SDFT', 'window_size': 7900, 'avg_time': 0.045998573303222656}\n",
      "{'algorithm': 'SDFT', 'window_size': 8100, 'avg_time': 0.04987444877624512}\n",
      "{'algorithm': 'SDFT', 'window_size': 8300, 'avg_time': 0.0510157823562622}\n",
      "{'algorithm': 'SDFT', 'window_size': 8500, 'avg_time': 0.04896178245544434}\n",
      "{'algorithm': 'SDFT', 'window_size': 8700, 'avg_time': 0.0513993501663208}\n",
      "{'algorithm': 'SDFT', 'window_size': 8900, 'avg_time': 0.04997262954711914}\n",
      "{'algorithm': 'SDFT', 'window_size': 9100, 'avg_time': 0.050573325157165526}\n",
      "{'algorithm': 'SDFT', 'window_size': 9300, 'avg_time': 0.055046463012695314}\n",
      "{'algorithm': 'SDFT', 'window_size': 9500, 'avg_time': 0.05544121265411377}\n",
      "{'algorithm': 'SDFT', 'window_size': 9700, 'avg_time': 0.053407692909240724}\n",
      "{'algorithm': 'SDFT', 'window_size': 9900, 'avg_time': 0.05771877765655518}\n"
     ]
    }
   ],
   "source": [
    "## SDFT\n",
    "for window_size in window_sizes:\n",
    "    total_time = 0\n",
    "    W = ts[:window_size]\n",
    "    start_fft = np.fft.fft(W)\n",
    "    xfreq, p_den = utility.peridogram(window_size, start_fft)\n",
    "    N = len(start_fft)\n",
    "    k = np.arange(N)\n",
    "    twiddle = np.exp(2j * np.pi * k / N)\n",
    "    for idx in range(0,num_sliding_window):\n",
    "        newest_x = ts[window_size+idx]\n",
    "        oldest_x = W[0]\n",
    "        W = W[1:]\n",
    "        W = np.append(W, newest_x)\n",
    "        start_time = time.time()                              # start time\n",
    "        start_fft = utility.update_sDFT(start_fft, oldest_x, newest_x, twiddle)\n",
    "        xfreq, p_den = utility.peridogram(window_size, start_fft)\n",
    "        end_time = time.time()                                # end time\n",
    "        total_time += (end_time - start_time)\n",
    "    \n",
    "    avg_time_ms = (total_time / num_sliding_window) * 1000\n",
    "    print({'algorithm': 'SDFT',\n",
    "                    'window_size': window_size,\n",
    "                    'avg_time': avg_time_ms})\n",
    "    com_time.append({'algorithm': 'SDFT',\n",
    "                    'window_size': window_size,\n",
    "                    'avg_time': avg_time_ms})"
   ]
  },
  {
   "cell_type": "markdown",
   "id": "709f8b05",
   "metadata": {},
   "source": [
    "## All SLE methods"
   ]
  },
  {
   "cell_type": "code",
   "execution_count": 18,
   "id": "17eaf47c",
   "metadata": {
    "ExecuteTime": {
     "end_time": "2024-07-09T13:57:55.506769Z",
     "start_time": "2024-07-09T13:57:42.201332Z"
    }
   },
   "outputs": [
    {
     "name": "stdout",
     "output_type": "stream",
     "text": [
      "{'algorithm': 'FindLength', 'window_size': 300, 'avg_time': 0.060309410095214844}\n",
      "{'algorithm': 'FindLength', 'window_size': 500, 'avg_time': 0.04993247985839844}\n",
      "{'algorithm': 'FindLength', 'window_size': 700, 'avg_time': 0.05785226821899414}\n",
      "{'algorithm': 'FindLength', 'window_size': 900, 'avg_time': 0.06904768943786621}\n",
      "{'algorithm': 'FindLength', 'window_size': 1100, 'avg_time': 0.0789482593536377}\n",
      "{'algorithm': 'FindLength', 'window_size': 1300, 'avg_time': 0.08077454566955566}\n",
      "{'algorithm': 'FindLength', 'window_size': 1500, 'avg_time': 0.0852670669555664}\n",
      "{'algorithm': 'FindLength', 'window_size': 1700, 'avg_time': 0.0951378345489502}\n",
      "{'algorithm': 'FindLength', 'window_size': 1900, 'avg_time': 0.09631562232971191}\n",
      "{'algorithm': 'FindLength', 'window_size': 2100, 'avg_time': 0.12082886695861816}\n",
      "{'algorithm': 'FindLength', 'window_size': 2300, 'avg_time': 0.1206669807434082}\n",
      "{'algorithm': 'FindLength', 'window_size': 2500, 'avg_time': 0.12884187698364258}\n",
      "{'algorithm': 'FindLength', 'window_size': 2700, 'avg_time': 0.15076780319213867}\n",
      "{'algorithm': 'FindLength', 'window_size': 2900, 'avg_time': 0.1523900032043457}\n",
      "{'algorithm': 'FindLength', 'window_size': 3100, 'avg_time': 0.17122483253479004}\n",
      "{'algorithm': 'FindLength', 'window_size': 3300, 'avg_time': 0.18960070610046387}\n",
      "{'algorithm': 'FindLength', 'window_size': 3500, 'avg_time': 0.19171690940856934}\n",
      "{'algorithm': 'FindLength', 'window_size': 3700, 'avg_time': 0.27992868423461914}\n",
      "{'algorithm': 'FindLength', 'window_size': 3900, 'avg_time': 0.19720149040222168}\n",
      "{'algorithm': 'FindLength', 'window_size': 4100, 'avg_time': 0.2199704647064209}\n",
      "{'algorithm': 'FindLength', 'window_size': 4300, 'avg_time': 0.3746199607849121}\n",
      "{'algorithm': 'FindLength', 'window_size': 4500, 'avg_time': 0.2642202377319336}\n",
      "{'algorithm': 'FindLength', 'window_size': 4700, 'avg_time': 0.2684652805328369}\n",
      "{'algorithm': 'FindLength', 'window_size': 4900, 'avg_time': 0.2329881191253662}\n",
      "{'algorithm': 'FindLength', 'window_size': 5100, 'avg_time': 0.22438406944274902}\n",
      "{'algorithm': 'FindLength', 'window_size': 5300, 'avg_time': 0.25500011444091797}\n",
      "{'algorithm': 'FindLength', 'window_size': 5500, 'avg_time': 0.2848498821258545}\n",
      "{'algorithm': 'FindLength', 'window_size': 5700, 'avg_time': 0.2640697956085205}\n",
      "{'algorithm': 'FindLength', 'window_size': 5900, 'avg_time': 0.311110258102417}\n",
      "{'algorithm': 'FindLength', 'window_size': 6100, 'avg_time': 0.2913320064544678}\n",
      "{'algorithm': 'FindLength', 'window_size': 6300, 'avg_time': 0.3137190341949463}\n",
      "{'algorithm': 'FindLength', 'window_size': 6500, 'avg_time': 0.34380030632019043}\n",
      "{'algorithm': 'FindLength', 'window_size': 6700, 'avg_time': 0.42212653160095215}\n",
      "{'algorithm': 'FindLength', 'window_size': 6900, 'avg_time': 0.32642459869384766}\n",
      "{'algorithm': 'FindLength', 'window_size': 7100, 'avg_time': 0.3277263641357422}\n",
      "{'algorithm': 'FindLength', 'window_size': 7300, 'avg_time': 0.38576388359069824}\n",
      "{'algorithm': 'FindLength', 'window_size': 7500, 'avg_time': 0.3455042839050293}\n",
      "{'algorithm': 'FindLength', 'window_size': 7700, 'avg_time': 0.3697385787963867}\n",
      "{'algorithm': 'FindLength', 'window_size': 7900, 'avg_time': 0.5011992454528809}\n",
      "{'algorithm': 'FindLength', 'window_size': 8100, 'avg_time': 0.4137709140777588}\n",
      "{'algorithm': 'FindLength', 'window_size': 8300, 'avg_time': 0.46878552436828613}\n",
      "{'algorithm': 'FindLength', 'window_size': 8500, 'avg_time': 0.41983890533447266}\n",
      "{'algorithm': 'FindLength', 'window_size': 8700, 'avg_time': 0.4578568935394287}\n",
      "{'algorithm': 'FindLength', 'window_size': 8900, 'avg_time': 0.43558621406555176}\n",
      "{'algorithm': 'FindLength', 'window_size': 9100, 'avg_time': 0.481677770614624}\n",
      "{'algorithm': 'FindLength', 'window_size': 9300, 'avg_time': 0.4881138801574707}\n",
      "{'algorithm': 'FindLength', 'window_size': 9500, 'avg_time': 0.4517397880554199}\n",
      "{'algorithm': 'FindLength', 'window_size': 9700, 'avg_time': 0.4658231735229492}\n",
      "{'algorithm': 'FindLength', 'window_size': 9900, 'avg_time': 0.4922387599945069}\n"
     ]
    }
   ],
   "source": [
    "# Findlength\n",
    "num_sliding_window = 1000\n",
    "for window_size in window_sizes:\n",
    "    total_time = 0  # To accumulate the total execution time of period.find_length(buffer)\n",
    "    #\n",
    "    for idx in range(0,num_sliding_window):\n",
    "        W = ts[idx:window_size + idx]\n",
    "        start_time = time.time()\n",
    "        SLE_result = period.find_length(W)\n",
    "        end_time = time.time()\n",
    "        total_time += (end_time - start_time)\n",
    "    \n",
    "    \n",
    "    avg_time_ms = (total_time / num_sliding_window) * 1000\n",
    "    print({'algorithm': 'FindLength',\n",
    "                    'window_size': window_size,\n",
    "                    'avg_time': avg_time_ms})\n",
    "    com_time.append({'algorithm': 'FindLength',\n",
    "                    'window_size': window_size,\n",
    "                    'avg_time': avg_time_ms})"
   ]
  },
  {
   "cell_type": "code",
   "execution_count": 19,
   "id": "cf80a946",
   "metadata": {
    "ExecuteTime": {
     "end_time": "2024-07-09T13:57:57.556359Z",
     "start_time": "2024-07-09T13:57:55.504852Z"
    }
   },
   "outputs": [
    {
     "name": "stdout",
     "output_type": "stream",
     "text": [
      "{'algorithm': 'OnlineSLE', 'window_size': 300, 'avg_time': 0.009203433990478516}\n",
      "{'algorithm': 'OnlineSLE', 'window_size': 500, 'avg_time': 0.010024785995483398}\n",
      "{'algorithm': 'OnlineSLE', 'window_size': 700, 'avg_time': 0.010729312896728516}\n",
      "{'algorithm': 'OnlineSLE', 'window_size': 900, 'avg_time': 0.011798381805419922}\n",
      "{'algorithm': 'OnlineSLE', 'window_size': 1100, 'avg_time': 0.012918949127197266}\n",
      "{'algorithm': 'OnlineSLE', 'window_size': 1300, 'avg_time': 0.014055728912353516}\n",
      "{'algorithm': 'OnlineSLE', 'window_size': 1500, 'avg_time': 0.015183687210083008}\n",
      "{'algorithm': 'OnlineSLE', 'window_size': 1700, 'avg_time': 0.016352176666259766}\n",
      "{'algorithm': 'OnlineSLE', 'window_size': 1900, 'avg_time': 0.01730179786682129}\n",
      "{'algorithm': 'OnlineSLE', 'window_size': 2100, 'avg_time': 0.01996016502380371}\n",
      "{'algorithm': 'OnlineSLE', 'window_size': 2300, 'avg_time': 0.019701719284057617}\n",
      "{'algorithm': 'OnlineSLE', 'window_size': 2500, 'avg_time': 0.02308964729309082}\n",
      "{'algorithm': 'OnlineSLE', 'window_size': 2700, 'avg_time': 0.021344900131225586}\n",
      "{'algorithm': 'OnlineSLE', 'window_size': 2900, 'avg_time': 0.02324962615966797}\n",
      "{'algorithm': 'OnlineSLE', 'window_size': 3100, 'avg_time': 0.024611949920654297}\n",
      "{'algorithm': 'OnlineSLE', 'window_size': 3300, 'avg_time': 0.029716014862060547}\n",
      "{'algorithm': 'OnlineSLE', 'window_size': 3500, 'avg_time': 0.027884960174560547}\n",
      "{'algorithm': 'OnlineSLE', 'window_size': 3700, 'avg_time': 0.02640223503112793}\n",
      "{'algorithm': 'OnlineSLE', 'window_size': 3900, 'avg_time': 0.028087854385375977}\n",
      "{'algorithm': 'OnlineSLE', 'window_size': 4100, 'avg_time': 0.03681755065917969}\n",
      "{'algorithm': 'OnlineSLE', 'window_size': 4300, 'avg_time': 0.03479933738708496}\n",
      "{'algorithm': 'OnlineSLE', 'window_size': 4500, 'avg_time': 0.035695791244506836}\n",
      "{'algorithm': 'OnlineSLE', 'window_size': 4700, 'avg_time': 0.04135465621948242}\n",
      "{'algorithm': 'OnlineSLE', 'window_size': 4900, 'avg_time': 0.04265785217285156}\n",
      "{'algorithm': 'OnlineSLE', 'window_size': 5100, 'avg_time': 0.043540239334106445}\n",
      "{'algorithm': 'OnlineSLE', 'window_size': 5300, 'avg_time': 0.04096794128417969}\n",
      "{'algorithm': 'OnlineSLE', 'window_size': 5500, 'avg_time': 0.04300355911254883}\n",
      "{'algorithm': 'OnlineSLE', 'window_size': 5700, 'avg_time': 0.04290652275085449}\n",
      "{'algorithm': 'OnlineSLE', 'window_size': 5900, 'avg_time': 0.04483485221862793}\n",
      "{'algorithm': 'OnlineSLE', 'window_size': 6100, 'avg_time': 0.04383063316345215}\n",
      "{'algorithm': 'OnlineSLE', 'window_size': 6300, 'avg_time': 0.03931856155395508}\n",
      "{'algorithm': 'OnlineSLE', 'window_size': 6500, 'avg_time': 0.04421734809875488}\n",
      "{'algorithm': 'OnlineSLE', 'window_size': 6700, 'avg_time': 0.042966604232788086}\n",
      "{'algorithm': 'OnlineSLE', 'window_size': 6900, 'avg_time': 0.045829057693481445}\n",
      "{'algorithm': 'OnlineSLE', 'window_size': 7100, 'avg_time': 0.047308921813964844}\n",
      "{'algorithm': 'OnlineSLE', 'window_size': 7300, 'avg_time': 0.047835350036621094}\n",
      "{'algorithm': 'OnlineSLE', 'window_size': 7500, 'avg_time': 0.047061920166015625}\n",
      "{'algorithm': 'OnlineSLE', 'window_size': 7700, 'avg_time': 0.05148053169250488}\n",
      "{'algorithm': 'OnlineSLE', 'window_size': 7900, 'avg_time': 0.04949665069580078}\n",
      "{'algorithm': 'OnlineSLE', 'window_size': 8100, 'avg_time': 0.05367469787597656}\n",
      "{'algorithm': 'OnlineSLE', 'window_size': 8300, 'avg_time': 0.05572056770324707}\n",
      "{'algorithm': 'OnlineSLE', 'window_size': 8500, 'avg_time': 0.05726456642150879}\n",
      "{'algorithm': 'OnlineSLE', 'window_size': 8700, 'avg_time': 0.0557553768157959}\n",
      "{'algorithm': 'OnlineSLE', 'window_size': 8900, 'avg_time': 0.0587468147277832}\n",
      "{'algorithm': 'OnlineSLE', 'window_size': 9100, 'avg_time': 0.05756092071533203}\n",
      "{'algorithm': 'OnlineSLE', 'window_size': 9300, 'avg_time': 0.05987358093261719}\n",
      "{'algorithm': 'OnlineSLE', 'window_size': 9500, 'avg_time': 0.06154322624206542}\n",
      "{'algorithm': 'OnlineSLE', 'window_size': 9700, 'avg_time': 0.062337398529052734}\n",
      "{'algorithm': 'OnlineSLE', 'window_size': 9900, 'avg_time': 0.06077837944030762}\n"
     ]
    }
   ],
   "source": [
    "# OnlineSLE\n",
    "for window_size in window_sizes:\n",
    "    total_time = 0\n",
    "    buffer = ts[:window_size]\n",
    "    start_fft = sp.fft.fft(buffer)\n",
    "    xfreq, p_den = utility.peridogram(window_size, start_fft)\n",
    "    peak_index = utility.get_period_hints(p_den)\n",
    "    N = len(start_fft)\n",
    "    k = np.arange(N)\n",
    "    twiddle = np.exp(2j * np.pi * k / N)\n",
    "    for idx in range(0,num_sliding_window):\n",
    "        newest_x = ts[window_size+idx]\n",
    "        oldest_x = buffer[0]\n",
    "        W = W[1:]\n",
    "        W = np.append(W, newest_x)\n",
    "        start_time = time.time()\n",
    "        start_fft = utility.update_sDFT(start_fft, oldest_x, newest_x, twiddle)\n",
    "        xfreq, p_den = utility.peridogram(window_size, start_fft)\n",
    "        peak_index = utility.get_period_hints(p_den)\n",
    "        end_time = time.time()\n",
    "        total_time += (end_time - start_time)\n",
    "\n",
    "    \n",
    "    avg_time_ms = (total_time / num_sliding_window) * 1000\n",
    "\n",
    "    print({'algorithm': 'OnlineSLE',\n",
    "                    'window_size': window_size,\n",
    "                    'avg_time': avg_time_ms})\n",
    "    com_time.append({'algorithm': 'OnlineSLE',\n",
    "                    'window_size': window_size,\n",
    "                    'avg_time': avg_time_ms})"
   ]
  },
  {
   "cell_type": "code",
   "execution_count": 20,
   "id": "ad92de58",
   "metadata": {
    "ExecuteTime": {
     "end_time": "2024-07-09T14:12:11.782385Z",
     "start_time": "2024-07-09T13:57:57.553009Z"
    }
   },
   "outputs": [
    {
     "name": "stdout",
     "output_type": "stream",
     "text": [
      "{'algorithm': 'AutoPeriod', 'window_size': 300, 'avg_time': 5.958028078079224}\n",
      "{'algorithm': 'AutoPeriod', 'window_size': 500, 'avg_time': 5.7757275104522705}\n",
      "{'algorithm': 'AutoPeriod', 'window_size': 700, 'avg_time': 6.929511308670044}\n",
      "{'algorithm': 'AutoPeriod', 'window_size': 900, 'avg_time': 8.25926661491394}\n",
      "{'algorithm': 'AutoPeriod', 'window_size': 1100, 'avg_time': 7.35467267036438}\n",
      "{'algorithm': 'AutoPeriod', 'window_size': 1300, 'avg_time': 7.390071868896484}\n",
      "{'algorithm': 'AutoPeriod', 'window_size': 1500, 'avg_time': 8.172863483428955}\n",
      "{'algorithm': 'AutoPeriod', 'window_size': 1700, 'avg_time': 8.16776180267334}\n",
      "{'algorithm': 'AutoPeriod', 'window_size': 1900, 'avg_time': 8.715895414352417}\n",
      "{'algorithm': 'AutoPeriod', 'window_size': 2100, 'avg_time': 9.134996891021729}\n",
      "{'algorithm': 'AutoPeriod', 'window_size': 2300, 'avg_time': 9.496944189071655}\n",
      "{'algorithm': 'AutoPeriod', 'window_size': 2500, 'avg_time': 9.183923959732056}\n",
      "{'algorithm': 'AutoPeriod', 'window_size': 2700, 'avg_time': 9.30582594871521}\n",
      "{'algorithm': 'AutoPeriod', 'window_size': 2900, 'avg_time': 10.042986869812012}\n",
      "{'algorithm': 'AutoPeriod', 'window_size': 3100, 'avg_time': 11.058281421661377}\n",
      "{'algorithm': 'AutoPeriod', 'window_size': 3300, 'avg_time': 10.482254981994629}\n",
      "{'algorithm': 'AutoPeriod', 'window_size': 3500, 'avg_time': 10.911930084228516}\n",
      "{'algorithm': 'AutoPeriod', 'window_size': 3700, 'avg_time': 11.318208456039429}\n",
      "{'algorithm': 'AutoPeriod', 'window_size': 3900, 'avg_time': 11.388077974319458}\n",
      "{'algorithm': 'AutoPeriod', 'window_size': 4100, 'avg_time': 14.77366852760315}\n",
      "{'algorithm': 'AutoPeriod', 'window_size': 4300, 'avg_time': 16.048654556274414}\n",
      "{'algorithm': 'AutoPeriod', 'window_size': 4500, 'avg_time': 16.143861770629883}\n",
      "{'algorithm': 'AutoPeriod', 'window_size': 4700, 'avg_time': 18.04740262031555}\n",
      "{'algorithm': 'AutoPeriod', 'window_size': 4900, 'avg_time': 15.4933443069458}\n",
      "{'algorithm': 'AutoPeriod', 'window_size': 5100, 'avg_time': 16.047797441482544}\n",
      "{'algorithm': 'AutoPeriod', 'window_size': 5300, 'avg_time': 19.030982494354248}\n",
      "{'algorithm': 'AutoPeriod', 'window_size': 5500, 'avg_time': 18.936594486236572}\n",
      "{'algorithm': 'AutoPeriod', 'window_size': 5700, 'avg_time': 16.478424072265625}\n",
      "{'algorithm': 'AutoPeriod', 'window_size': 5900, 'avg_time': 20.06065344810486}\n",
      "{'algorithm': 'AutoPeriod', 'window_size': 6100, 'avg_time': 21.50467538833618}\n",
      "{'algorithm': 'AutoPeriod', 'window_size': 6300, 'avg_time': 21.654855728149414}\n",
      "{'algorithm': 'AutoPeriod', 'window_size': 6500, 'avg_time': 23.719403505325317}\n",
      "{'algorithm': 'AutoPeriod', 'window_size': 6700, 'avg_time': 26.825573682785034}\n",
      "{'algorithm': 'AutoPeriod', 'window_size': 6900, 'avg_time': 25.18911576271057}\n",
      "{'algorithm': 'AutoPeriod', 'window_size': 7100, 'avg_time': 25.779173374176025}\n",
      "{'algorithm': 'AutoPeriod', 'window_size': 7300, 'avg_time': 22.34788680076599}\n",
      "{'algorithm': 'AutoPeriod', 'window_size': 7500, 'avg_time': 21.429891109466553}\n",
      "{'algorithm': 'AutoPeriod', 'window_size': 7700, 'avg_time': 23.95388102531433}\n",
      "{'algorithm': 'AutoPeriod', 'window_size': 7900, 'avg_time': 26.64663290977478}\n",
      "{'algorithm': 'AutoPeriod', 'window_size': 8100, 'avg_time': 23.369075059890747}\n",
      "{'algorithm': 'AutoPeriod', 'window_size': 8300, 'avg_time': 27.166603326797485}\n",
      "{'algorithm': 'AutoPeriod', 'window_size': 8500, 'avg_time': 24.036477088928223}\n",
      "{'algorithm': 'AutoPeriod', 'window_size': 8700, 'avg_time': 24.49762773513794}\n",
      "{'algorithm': 'AutoPeriod', 'window_size': 8900, 'avg_time': 29.389252185821533}\n",
      "{'algorithm': 'AutoPeriod', 'window_size': 9100, 'avg_time': 27.67422914505005}\n",
      "{'algorithm': 'AutoPeriod', 'window_size': 9300, 'avg_time': 28.527851104736328}\n",
      "{'algorithm': 'AutoPeriod', 'window_size': 9500, 'avg_time': 27.938359260559082}\n",
      "{'algorithm': 'AutoPeriod', 'window_size': 9700, 'avg_time': 32.8605170249939}\n",
      "{'algorithm': 'AutoPeriod', 'window_size': 9900, 'avg_time': 29.560697317123413}\n"
     ]
    }
   ],
   "source": [
    "# AutoPeriod\n",
    "for window_size in window_sizes:\n",
    "    total_time = 0  # To accumulate the total execution time of period.find_length(buffer)\n",
    "    #\n",
    "    for idx in range(0,num_sliding_window):\n",
    "        W = ts[idx:window_size + idx]\n",
    "        start_time = time.time()\n",
    "        SLE_result = period.autoperiod(W)\n",
    "        end_time = time.time()\n",
    "        total_time += (end_time - start_time)\n",
    "    \n",
    "    avg_time_ms = (total_time / num_sliding_window) * 1000\n",
    "    print({'algorithm': 'AutoPeriod',\n",
    "                    'window_size': window_size,\n",
    "                    'avg_time': avg_time_ms})\n",
    "    com_time.append({'algorithm': 'AutoPeriod',\n",
    "                    'window_size': window_size,\n",
    "                    'avg_time': avg_time_ms})"
   ]
  },
  {
   "cell_type": "code",
   "execution_count": 21,
   "id": "d0dd07c5",
   "metadata": {
    "ExecuteTime": {
     "end_time": "2024-07-09T14:41:43.554410Z",
     "start_time": "2024-07-09T14:12:11.790204Z"
    }
   },
   "outputs": [
    {
     "name": "stdout",
     "output_type": "stream",
     "text": [
      "{'algorithm': 'SAZED', 'window_size': 300, 'avg_time': 3.1857035160064697}\n",
      "{'algorithm': 'SAZED', 'window_size': 500, 'avg_time': 3.337698459625244}\n",
      "{'algorithm': 'SAZED', 'window_size': 700, 'avg_time': 4.652320623397827}\n",
      "{'algorithm': 'SAZED', 'window_size': 900, 'avg_time': 4.638961315155029}\n",
      "{'algorithm': 'SAZED', 'window_size': 1100, 'avg_time': 6.358004808425903}\n",
      "{'algorithm': 'SAZED', 'window_size': 1300, 'avg_time': 6.987967014312744}\n",
      "{'algorithm': 'SAZED', 'window_size': 1500, 'avg_time': 7.561682462692261}\n",
      "{'algorithm': 'SAZED', 'window_size': 1700, 'avg_time': 8.815869331359863}\n",
      "{'algorithm': 'SAZED', 'window_size': 1900, 'avg_time': 8.603969812393188}\n",
      "{'algorithm': 'SAZED', 'window_size': 2100, 'avg_time': 11.494245290756226}\n",
      "{'algorithm': 'SAZED', 'window_size': 2300, 'avg_time': 11.116997480392456}\n",
      "{'algorithm': 'SAZED', 'window_size': 2500, 'avg_time': 11.119609117507935}\n",
      "{'algorithm': 'SAZED', 'window_size': 2700, 'avg_time': 13.566391468048096}\n",
      "{'algorithm': 'SAZED', 'window_size': 2900, 'avg_time': 13.945133686065674}\n",
      "{'algorithm': 'SAZED', 'window_size': 3100, 'avg_time': 13.285162448883057}\n",
      "{'algorithm': 'SAZED', 'window_size': 3300, 'avg_time': 13.66383957862854}\n",
      "{'algorithm': 'SAZED', 'window_size': 3500, 'avg_time': 16.25612235069275}\n",
      "{'algorithm': 'SAZED', 'window_size': 3700, 'avg_time': 15.825327873229982}\n",
      "{'algorithm': 'SAZED', 'window_size': 3900, 'avg_time': 16.527617692947388}\n",
      "{'algorithm': 'SAZED', 'window_size': 4100, 'avg_time': 21.185593843460083}\n",
      "{'algorithm': 'SAZED', 'window_size': 4300, 'avg_time': 21.3875949382782}\n",
      "{'algorithm': 'SAZED', 'window_size': 4500, 'avg_time': 22.80595827102661}\n",
      "{'algorithm': 'SAZED', 'window_size': 4700, 'avg_time': 24.946613788604736}\n",
      "{'algorithm': 'SAZED', 'window_size': 4900, 'avg_time': 34.00872492790222}\n",
      "{'algorithm': 'SAZED', 'window_size': 5100, 'avg_time': 28.024372100830078}\n",
      "{'algorithm': 'SAZED', 'window_size': 5300, 'avg_time': 28.00518250465393}\n",
      "{'algorithm': 'SAZED', 'window_size': 5500, 'avg_time': 29.001578092575073}\n",
      "{'algorithm': 'SAZED', 'window_size': 5700, 'avg_time': 33.833938121795654}\n",
      "{'algorithm': 'SAZED', 'window_size': 5900, 'avg_time': 32.946561336517334}\n",
      "{'algorithm': 'SAZED', 'window_size': 6100, 'avg_time': 37.314727544784546}\n",
      "{'algorithm': 'SAZED', 'window_size': 6300, 'avg_time': 38.636799812316895}\n",
      "{'algorithm': 'SAZED', 'window_size': 6500, 'avg_time': 49.25308418273926}\n",
      "{'algorithm': 'SAZED', 'window_size': 6700, 'avg_time': 38.538931369781494}\n",
      "{'algorithm': 'SAZED', 'window_size': 6900, 'avg_time': 42.63605761528015}\n",
      "{'algorithm': 'SAZED', 'window_size': 7100, 'avg_time': 44.926252603530884}\n",
      "{'algorithm': 'SAZED', 'window_size': 7300, 'avg_time': 47.72343397140503}\n",
      "{'algorithm': 'SAZED', 'window_size': 7500, 'avg_time': 50.134377241134644}\n",
      "{'algorithm': 'SAZED', 'window_size': 7700, 'avg_time': 56.835814476013184}\n",
      "{'algorithm': 'SAZED', 'window_size': 7900, 'avg_time': 65.90330910682678}\n",
      "{'algorithm': 'SAZED', 'window_size': 8100, 'avg_time': 73.62116527557373}\n",
      "{'algorithm': 'SAZED', 'window_size': 8300, 'avg_time': 71.54006099700928}\n",
      "{'algorithm': 'SAZED', 'window_size': 8500, 'avg_time': 81.0110604763031}\n",
      "{'algorithm': 'SAZED', 'window_size': 8700, 'avg_time': 78.27631092071533}\n",
      "{'algorithm': 'SAZED', 'window_size': 8900, 'avg_time': 100.92684030532837}\n",
      "{'algorithm': 'SAZED', 'window_size': 9100, 'avg_time': 77.4636583328247}\n",
      "{'algorithm': 'SAZED', 'window_size': 9300, 'avg_time': 78.67560744285583}\n",
      "{'algorithm': 'SAZED', 'window_size': 9500, 'avg_time': 85.0604317188263}\n",
      "{'algorithm': 'SAZED', 'window_size': 9700, 'avg_time': 87.32237505912781}\n",
      "{'algorithm': 'SAZED', 'window_size': 9900, 'avg_time': 91.49025106430054}\n"
     ]
    }
   ],
   "source": [
    "# SAZED\n",
    "import rpy2.robjects as robjects\n",
    "from rpy2.robjects.packages import importr\n",
    "sazedR = importr('sazedR')          # sazedR in CRAN\n",
    "\n",
    "for window_size in window_sizes:\n",
    "    total_time = 0\n",
    "    for idx in range(0,num_sliding_window):\n",
    "        W = ts[idx:window_size + idx]\n",
    "        W = robjects.FloatVector(W)\n",
    "        start_time = time.time()\n",
    "        SLE_result = sazedR.sazed(W)\n",
    "        end_time = time.time()\n",
    "        total_time += (end_time - start_time)\n",
    "    \n",
    "    avg_time_ms = (total_time / num_sliding_window) * 1000\n",
    "    print({'algorithm': 'SAZED',\n",
    "                    'window_size': window_size,\n",
    "                    'avg_time': avg_time_ms})\n",
    "    com_time.append({'algorithm': 'SAZED',\n",
    "                    'window_size': window_size,\n",
    "                    'avg_time': avg_time_ms})"
   ]
  },
  {
   "cell_type": "code",
   "execution_count": 22,
   "id": "5e7f806c",
   "metadata": {
    "ExecuteTime": {
     "end_time": "2024-07-09T14:41:43.601341Z",
     "start_time": "2024-07-09T14:41:43.581649Z"
    }
   },
   "outputs": [],
   "source": [
    "import pandas as pd\n",
    "df = pd.DataFrame(com_time)"
   ]
  },
  {
   "cell_type": "code",
   "execution_count": 23,
   "id": "183e0d29",
   "metadata": {
    "ExecuteTime": {
     "end_time": "2024-07-09T14:41:44.015987Z",
     "start_time": "2024-07-09T14:41:43.582048Z"
    }
   },
   "outputs": [
    {
     "name": "stderr",
     "output_type": "stream",
     "text": [
      "/var/folders/39/cpb13rr53hx1nyfrgqhk18pc0000gn/T/ipykernel_52613/55142410.py:2: MatplotlibDeprecationWarning: The get_cmap function was deprecated in Matplotlib 3.7 and will be removed two minor releases later. Use ``matplotlib.colormaps[name]`` or ``matplotlib.colormaps.get_cmap(obj)`` instead.\n",
      "  colors = plt.cm.get_cmap('tab10', len(algorithms))\n",
      "The PostScript backend does not support transparency; partially transparent artists will be rendered opaque.\n"
     ]
    },
    {
     "data": {
      "image/png": "[encoded data removed]",
      "text/plain": [
       "<Figure size 1500x400 with 3 Axes>"
      ]
     },
     "metadata": {},
     "output_type": "display_data"
    }
   ],
   "source": [
    "\n",
    "algorithms = ['OnlineSLE','FindLength','AutoPeriod', 'SAZED']\n",
    "colors = plt.cm.get_cmap('tab10', len(algorithms))\n",
    "\n",
    "fig, axs = plt.subplots(1, 3, figsize=(15, 4))\n",
    "\n",
    "\n",
    "subset = df[df['algorithm'] == 'SDFT']\n",
    "axs[0].plot(subset['window_size'], subset['avg_time'], linestyle='-', \n",
    "             color='red', label='SDFT')\n",
    "subset = df[df['algorithm'] == 'numpy.FFT']\n",
    "axs[0].plot(subset['window_size'], subset['avg_time'], linestyle='-', \n",
    "             color='blue', label='numpy.FFT')\n",
    "subset = df[df['algorithm'] == 'scipy.FFT']\n",
    "axs[0].plot(subset['window_size'], subset['avg_time'], linestyle='-', \n",
    "             color='green', label='scipy.FFT')\n",
    "\n",
    "axs[0].set_xlabel('Sliding Window Size', fontsize=14)\n",
    "axs[0].set_ylabel('Avg. time (msec)', fontsize=14) \n",
    "axs[0].set_title('Periodogram', fontsize=14)\n",
    "axs[0].legend()\n",
    "\n",
    "for i, algorithm in enumerate(algorithms):\n",
    "    subset = df[df['algorithm'] == algorithm]\n",
    "    axs[1].plot(subset['window_size'], subset['avg_time'], linestyle='-', \n",
    "             color=colors(i), label=algorithm)\n",
    "\n",
    "# plt.title('Accuracy Rate (Fig5a)', fontsize=16)\n",
    "axs[1].set_xlabel('Sliding Window Size', fontsize=14)\n",
    "axs[1].set_ylabel('Avg. time (msec)', fontsize=14)\n",
    "axs[1].set_title('SLE methods', fontsize=14)\n",
    "axs[1].legend()\n",
    "\n",
    "for i, algorithm in enumerate(algorithms[:2]):\n",
    "    subset = df[df['algorithm'] == algorithm]\n",
    "    axs[2].plot(subset['window_size'], subset['avg_time'], linestyle='-', \n",
    "             color=colors(i), label=algorithm)\n",
    "\n",
    "# plt.title('Accuracy Rate (Fig5a)', fontsize=16)\n",
    "axs[2].set_xlabel('Sliding Window Size', fontsize=14)\n",
    "axs[2].set_ylabel('Avg. time (msec)', fontsize=14) \n",
    "axs[2].set_title('SLE methods', fontsize=14)\n",
    "axs[2].legend()\n",
    "\n",
    "plt.tight_layout()\n",
    "plt.savefig('acc_time.eps',format='eps')"
   ]
  },
  {
   "cell_type": "code",
   "execution_count": null,
   "id": "aeb328dd",
   "metadata": {},
   "outputs": [],
   "source": [
    "colors = plt.cm.get_cmap('tab10', len(algorithms))\n",
    "colors"
   ]
  },
  {
   "cell_type": "code",
   "execution_count": null,
   "id": "94d20135",
   "metadata": {},
   "outputs": [],
   "source": []
  }
 ],
 "metadata": {
  "kernelspec": {
   "display_name": "Python 3 (ipykernel)",
   "language": "python",
   "name": "python3"
  },
  "language_info": {
   "codemirror_mode": {
    "name": "ipython",
    "version": 3
   },
   "file_extension": ".py",
   "mimetype": "text/x-python",
   "name": "python",
   "nbconvert_exporter": "python",
   "pygments_lexer": "ipython3",
   "version": "3.10.4"
  }
 },
 "nbformat": 4,
 "nbformat_minor": 5
}
